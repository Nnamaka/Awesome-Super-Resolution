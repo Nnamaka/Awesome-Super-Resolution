{
  "nbformat": 4,
  "nbformat_minor": 0,
  "metadata": {
    "colab": {
      "provenance": [],
      "collapsed_sections": [],
      "authorship_tag": "ABX9TyMXH+u5qmtdIh2twCfBStdi",
      "include_colab_link": true
    },
    "kernelspec": {
      "name": "python3",
      "display_name": "Python 3"
    },
    "language_info": {
      "name": "python"
    }
  },
  "cells": [
    {
      "cell_type": "markdown",
      "metadata": {
        "id": "view-in-github",
        "colab_type": "text"
      },
      "source": [
        "<a href=\"https://colab.research.google.com/github/Nnamaka/Awesome-Super-Resolution/blob/master/Computer_vision/face_Detection/faceRecognition.ipynb\" target=\"_parent\"><img src=\"https://colab.research.google.com/assets/colab-badge.svg\" alt=\"Open In Colab\"/></a>"
      ]
    },
    {
      "cell_type": "code",
      "source": [],
      "metadata": {
        "id": "MNJNem1DpR9V"
      },
      "execution_count": null,
      "outputs": []
    },
    {
      "cell_type": "markdown",
      "source": [
        "#Install Dependencies"
      ],
      "metadata": {
        "id": "_xb9XHGpPQ9E"
      }
    },
    {
      "cell_type": "code",
      "source": [
        "!pip install tensorflow==2.4.1 tensorflow-gpu==2.4.1 opencv-python matplotlib\n",
        "!pip install wget"
      ],
      "metadata": {
        "id": "Y9UMtA96PW24",
        "colab": {
          "base_uri": "https://localhost:8080/",
          "height": 1000
        },
        "outputId": "bd8c800c-480b-4da8-c779-6a396110c22f"
      },
      "execution_count": 1,
      "outputs": [
        {
          "output_type": "stream",
          "name": "stdout",
          "text": [
            "Looking in indexes: https://pypi.org/simple, https://us-python.pkg.dev/colab-wheels/public/simple/\n",
            "Collecting tensorflow==2.4.1\n",
            "  Downloading tensorflow-2.4.1-cp37-cp37m-manylinux2010_x86_64.whl (394.3 MB)\n",
            "\u001b[K     |████████████████████████████████| 394.3 MB 15 kB/s \n",
            "\u001b[?25hCollecting tensorflow-gpu==2.4.1\n",
            "  Downloading tensorflow_gpu-2.4.1-cp37-cp37m-manylinux2010_x86_64.whl (394.3 MB)\n",
            "\u001b[K     |████████████████████████████████| 394.3 MB 19 kB/s \n",
            "\u001b[?25hRequirement already satisfied: opencv-python in /usr/local/lib/python3.7/dist-packages (4.6.0.66)\n",
            "Requirement already satisfied: matplotlib in /usr/local/lib/python3.7/dist-packages (3.2.2)\n",
            "Requirement already satisfied: google-pasta~=0.2 in /usr/local/lib/python3.7/dist-packages (from tensorflow==2.4.1) (0.2.0)\n",
            "Requirement already satisfied: opt-einsum~=3.3.0 in /usr/local/lib/python3.7/dist-packages (from tensorflow==2.4.1) (3.3.0)\n",
            "Requirement already satisfied: astunparse~=1.6.3 in /usr/local/lib/python3.7/dist-packages (from tensorflow==2.4.1) (1.6.3)\n",
            "Requirement already satisfied: six~=1.15.0 in /usr/local/lib/python3.7/dist-packages (from tensorflow==2.4.1) (1.15.0)\n",
            "Requirement already satisfied: termcolor~=1.1.0 in /usr/local/lib/python3.7/dist-packages (from tensorflow==2.4.1) (1.1.0)\n",
            "Collecting gast==0.3.3\n",
            "  Downloading gast-0.3.3-py2.py3-none-any.whl (9.7 kB)\n",
            "Collecting absl-py~=0.10\n",
            "  Downloading absl_py-0.15.0-py3-none-any.whl (132 kB)\n",
            "\u001b[K     |████████████████████████████████| 132 kB 81.1 MB/s \n",
            "\u001b[?25hCollecting tensorflow-estimator<2.5.0,>=2.4.0\n",
            "  Downloading tensorflow_estimator-2.4.0-py2.py3-none-any.whl (462 kB)\n",
            "\u001b[K     |████████████████████████████████| 462 kB 86.1 MB/s \n",
            "\u001b[?25hCollecting numpy~=1.19.2\n",
            "  Downloading numpy-1.19.5-cp37-cp37m-manylinux2010_x86_64.whl (14.8 MB)\n",
            "\u001b[K     |████████████████████████████████| 14.8 MB 82.9 MB/s \n",
            "\u001b[?25hCollecting wrapt~=1.12.1\n",
            "  Downloading wrapt-1.12.1.tar.gz (27 kB)\n",
            "Requirement already satisfied: keras-preprocessing~=1.1.2 in /usr/local/lib/python3.7/dist-packages (from tensorflow==2.4.1) (1.1.2)\n",
            "Collecting h5py~=2.10.0\n",
            "  Downloading h5py-2.10.0-cp37-cp37m-manylinux1_x86_64.whl (2.9 MB)\n",
            "\u001b[K     |████████████████████████████████| 2.9 MB 57.6 MB/s \n",
            "\u001b[?25hRequirement already satisfied: tensorboard~=2.4 in /usr/local/lib/python3.7/dist-packages (from tensorflow==2.4.1) (2.8.0)\n",
            "Requirement already satisfied: protobuf>=3.9.2 in /usr/local/lib/python3.7/dist-packages (from tensorflow==2.4.1) (3.17.3)\n",
            "Collecting typing-extensions~=3.7.4\n",
            "  Downloading typing_extensions-3.7.4.3-py3-none-any.whl (22 kB)\n",
            "Requirement already satisfied: wheel~=0.35 in /usr/local/lib/python3.7/dist-packages (from tensorflow==2.4.1) (0.37.1)\n",
            "Collecting flatbuffers~=1.12.0\n",
            "  Downloading flatbuffers-1.12-py2.py3-none-any.whl (15 kB)\n",
            "Collecting grpcio~=1.32.0\n",
            "  Downloading grpcio-1.32.0-cp37-cp37m-manylinux2014_x86_64.whl (3.8 MB)\n",
            "\u001b[K     |████████████████████████████████| 3.8 MB 89.3 MB/s \n",
            "\u001b[?25hRequirement already satisfied: google-auth<3,>=1.6.3 in /usr/local/lib/python3.7/dist-packages (from tensorboard~=2.4->tensorflow==2.4.1) (1.35.0)\n",
            "Requirement already satisfied: tensorboard-data-server<0.7.0,>=0.6.0 in /usr/local/lib/python3.7/dist-packages (from tensorboard~=2.4->tensorflow==2.4.1) (0.6.1)\n",
            "Requirement already satisfied: werkzeug>=0.11.15 in /usr/local/lib/python3.7/dist-packages (from tensorboard~=2.4->tensorflow==2.4.1) (1.0.1)\n",
            "Requirement already satisfied: setuptools>=41.0.0 in /usr/local/lib/python3.7/dist-packages (from tensorboard~=2.4->tensorflow==2.4.1) (57.4.0)\n",
            "Requirement already satisfied: markdown>=2.6.8 in /usr/local/lib/python3.7/dist-packages (from tensorboard~=2.4->tensorflow==2.4.1) (3.4.1)\n",
            "Requirement already satisfied: requests<3,>=2.21.0 in /usr/local/lib/python3.7/dist-packages (from tensorboard~=2.4->tensorflow==2.4.1) (2.23.0)\n",
            "Requirement already satisfied: google-auth-oauthlib<0.5,>=0.4.1 in /usr/local/lib/python3.7/dist-packages (from tensorboard~=2.4->tensorflow==2.4.1) (0.4.6)\n",
            "Requirement already satisfied: tensorboard-plugin-wit>=1.6.0 in /usr/local/lib/python3.7/dist-packages (from tensorboard~=2.4->tensorflow==2.4.1) (1.8.1)\n",
            "Requirement already satisfied: rsa<5,>=3.1.4 in /usr/local/lib/python3.7/dist-packages (from google-auth<3,>=1.6.3->tensorboard~=2.4->tensorflow==2.4.1) (4.9)\n",
            "Requirement already satisfied: pyasn1-modules>=0.2.1 in /usr/local/lib/python3.7/dist-packages (from google-auth<3,>=1.6.3->tensorboard~=2.4->tensorflow==2.4.1) (0.2.8)\n",
            "Requirement already satisfied: cachetools<5.0,>=2.0.0 in /usr/local/lib/python3.7/dist-packages (from google-auth<3,>=1.6.3->tensorboard~=2.4->tensorflow==2.4.1) (4.2.4)\n",
            "Requirement already satisfied: requests-oauthlib>=0.7.0 in /usr/local/lib/python3.7/dist-packages (from google-auth-oauthlib<0.5,>=0.4.1->tensorboard~=2.4->tensorflow==2.4.1) (1.3.1)\n",
            "Requirement already satisfied: importlib-metadata>=4.4 in /usr/local/lib/python3.7/dist-packages (from markdown>=2.6.8->tensorboard~=2.4->tensorflow==2.4.1) (4.12.0)\n",
            "Requirement already satisfied: zipp>=0.5 in /usr/local/lib/python3.7/dist-packages (from importlib-metadata>=4.4->markdown>=2.6.8->tensorboard~=2.4->tensorflow==2.4.1) (3.8.1)\n",
            "Requirement already satisfied: pyasn1<0.5.0,>=0.4.6 in /usr/local/lib/python3.7/dist-packages (from pyasn1-modules>=0.2.1->google-auth<3,>=1.6.3->tensorboard~=2.4->tensorflow==2.4.1) (0.4.8)\n",
            "Requirement already satisfied: idna<3,>=2.5 in /usr/local/lib/python3.7/dist-packages (from requests<3,>=2.21.0->tensorboard~=2.4->tensorflow==2.4.1) (2.10)\n",
            "Requirement already satisfied: urllib3!=1.25.0,!=1.25.1,<1.26,>=1.21.1 in /usr/local/lib/python3.7/dist-packages (from requests<3,>=2.21.0->tensorboard~=2.4->tensorflow==2.4.1) (1.24.3)\n",
            "Requirement already satisfied: certifi>=2017.4.17 in /usr/local/lib/python3.7/dist-packages (from requests<3,>=2.21.0->tensorboard~=2.4->tensorflow==2.4.1) (2022.6.15)\n",
            "Requirement already satisfied: chardet<4,>=3.0.2 in /usr/local/lib/python3.7/dist-packages (from requests<3,>=2.21.0->tensorboard~=2.4->tensorflow==2.4.1) (3.0.4)\n",
            "Requirement already satisfied: oauthlib>=3.0.0 in /usr/local/lib/python3.7/dist-packages (from requests-oauthlib>=0.7.0->google-auth-oauthlib<0.5,>=0.4.1->tensorboard~=2.4->tensorflow==2.4.1) (3.2.0)\n",
            "Requirement already satisfied: cycler>=0.10 in /usr/local/lib/python3.7/dist-packages (from matplotlib) (0.11.0)\n",
            "Requirement already satisfied: python-dateutil>=2.1 in /usr/local/lib/python3.7/dist-packages (from matplotlib) (2.8.2)\n",
            "Requirement already satisfied: kiwisolver>=1.0.1 in /usr/local/lib/python3.7/dist-packages (from matplotlib) (1.4.4)\n",
            "Requirement already satisfied: pyparsing!=2.0.4,!=2.1.2,!=2.1.6,>=2.0.1 in /usr/local/lib/python3.7/dist-packages (from matplotlib) (3.0.9)\n",
            "Building wheels for collected packages: wrapt\n",
            "  Building wheel for wrapt (setup.py) ... \u001b[?25l\u001b[?25hdone\n",
            "  Created wheel for wrapt: filename=wrapt-1.12.1-cp37-cp37m-linux_x86_64.whl size=68716 sha256=8215dc890f6e55b7a8f6fa2e6069de320086c0e7ad0b7b30e2030c825a4e3fd2\n",
            "  Stored in directory: /root/.cache/pip/wheels/62/76/4c/aa25851149f3f6d9785f6c869387ad82b3fd37582fa8147ac6\n",
            "Successfully built wrapt\n",
            "Installing collected packages: typing-extensions, numpy, grpcio, absl-py, wrapt, tensorflow-estimator, h5py, gast, flatbuffers, tensorflow-gpu, tensorflow\n",
            "  Attempting uninstall: typing-extensions\n",
            "    Found existing installation: typing-extensions 4.1.1\n",
            "    Uninstalling typing-extensions-4.1.1:\n",
            "      Successfully uninstalled typing-extensions-4.1.1\n",
            "  Attempting uninstall: numpy\n",
            "    Found existing installation: numpy 1.21.6\n",
            "    Uninstalling numpy-1.21.6:\n",
            "      Successfully uninstalled numpy-1.21.6\n",
            "  Attempting uninstall: grpcio\n",
            "    Found existing installation: grpcio 1.48.1\n",
            "    Uninstalling grpcio-1.48.1:\n",
            "      Successfully uninstalled grpcio-1.48.1\n",
            "  Attempting uninstall: absl-py\n",
            "    Found existing installation: absl-py 1.2.0\n",
            "    Uninstalling absl-py-1.2.0:\n",
            "      Successfully uninstalled absl-py-1.2.0\n",
            "  Attempting uninstall: wrapt\n",
            "    Found existing installation: wrapt 1.14.1\n",
            "    Uninstalling wrapt-1.14.1:\n",
            "      Successfully uninstalled wrapt-1.14.1\n",
            "  Attempting uninstall: tensorflow-estimator\n",
            "    Found existing installation: tensorflow-estimator 2.8.0\n",
            "    Uninstalling tensorflow-estimator-2.8.0:\n",
            "      Successfully uninstalled tensorflow-estimator-2.8.0\n",
            "  Attempting uninstall: h5py\n",
            "    Found existing installation: h5py 3.1.0\n",
            "    Uninstalling h5py-3.1.0:\n",
            "      Successfully uninstalled h5py-3.1.0\n",
            "  Attempting uninstall: gast\n",
            "    Found existing installation: gast 0.5.3\n",
            "    Uninstalling gast-0.5.3:\n",
            "      Successfully uninstalled gast-0.5.3\n",
            "  Attempting uninstall: flatbuffers\n",
            "    Found existing installation: flatbuffers 2.0.7\n",
            "    Uninstalling flatbuffers-2.0.7:\n",
            "      Successfully uninstalled flatbuffers-2.0.7\n",
            "  Attempting uninstall: tensorflow\n",
            "    Found existing installation: tensorflow 2.8.2+zzzcolab20220719082949\n",
            "    Uninstalling tensorflow-2.8.2+zzzcolab20220719082949:\n",
            "      Successfully uninstalled tensorflow-2.8.2+zzzcolab20220719082949\n",
            "\u001b[31mERROR: pip's dependency resolver does not currently take into account all the packages that are installed. This behaviour is the source of the following dependency conflicts.\n",
            "xarray-einstats 0.2.2 requires numpy>=1.21, but you have numpy 1.19.5 which is incompatible.\n",
            "jax 0.3.17 requires numpy>=1.20, but you have numpy 1.19.5 which is incompatible.\n",
            "cmdstanpy 1.0.7 requires numpy>=1.21, but you have numpy 1.19.5 which is incompatible.\u001b[0m\n",
            "Successfully installed absl-py-0.15.0 flatbuffers-1.12 gast-0.3.3 grpcio-1.32.0 h5py-2.10.0 numpy-1.19.5 tensorflow-2.4.1 tensorflow-estimator-2.4.0 tensorflow-gpu-2.4.1 typing-extensions-3.7.4.3 wrapt-1.12.1\n"
          ]
        },
        {
          "output_type": "display_data",
          "data": {
            "application/vnd.colab-display-data+json": {
              "pip_warning": {
                "packages": [
                  "grpc",
                  "numpy",
                  "typing_extensions"
                ]
              }
            }
          },
          "metadata": {}
        },
        {
          "output_type": "stream",
          "name": "stdout",
          "text": [
            "Looking in indexes: https://pypi.org/simple, https://us-python.pkg.dev/colab-wheels/public/simple/\n",
            "Collecting wget\n",
            "  Downloading wget-3.2.zip (10 kB)\n",
            "Building wheels for collected packages: wget\n",
            "  Building wheel for wget (setup.py) ... \u001b[?25l\u001b[?25hdone\n",
            "  Created wheel for wget: filename=wget-3.2-py3-none-any.whl size=9675 sha256=66bfcb94583e17e26abb3c7169df2b6558e3b476a52576999752dad6cef2a77d\n",
            "  Stored in directory: /root/.cache/pip/wheels/a1/b6/7c/0e63e34eb06634181c63adacca38b79ff8f35c37e3c13e3c02\n",
            "Successfully built wget\n",
            "Installing collected packages: wget\n",
            "Successfully installed wget-3.2\n"
          ]
        }
      ]
    },
    {
      "cell_type": "markdown",
      "source": [
        "##Import Dependencies"
      ],
      "metadata": {
        "id": "XQlJCBB_PkQD"
      }
    },
    {
      "cell_type": "code",
      "source": [
        "import cv2\n",
        "import os\n",
        "import random\n",
        "import numpy as np\n",
        "from matplotlib import pyplot as plt"
      ],
      "metadata": {
        "id": "GCaHsD09PuKX"
      },
      "execution_count": 2,
      "outputs": []
    },
    {
      "cell_type": "code",
      "source": [
        "# Import tensorflow dependencies - Functional API\n",
        "from tensorflow.keras.models import Model\n",
        "from tensorflow.keras.layers import Layer, Conv2D, Dense, MaxPooling2D, Input, Flatten\n",
        "import tensorflow as tf"
      ],
      "metadata": {
        "id": "7SwEiaa8QDZW"
      },
      "execution_count": 3,
      "outputs": []
    },
    {
      "cell_type": "markdown",
      "source": [
        "##Create Folder Structures\n"
      ],
      "metadata": {
        "id": "5Ht1qzKOVeN6"
      }
    },
    {
      "cell_type": "code",
      "source": [
        "POS_PATH = os.path.join('data', 'positive')\n",
        "NEG_PATH = os.path.join('data', 'negative')\n",
        "ANC_PATH = os.path.join('data', 'anchor')"
      ],
      "metadata": {
        "id": "KDigIfCAFAl8"
      },
      "execution_count": 4,
      "outputs": []
    },
    {
      "cell_type": "code",
      "source": [
        "# make the directories\n",
        "os.makedirs(POS_PATH)\n",
        "os.makedirs(NEG_PATH)\n",
        "os.makedirs(ANC_PATH)"
      ],
      "metadata": {
        "id": "mdmQcQdiFW9Y"
      },
      "execution_count": 5,
      "outputs": []
    },
    {
      "cell_type": "markdown",
      "source": [
        "#Collect Positive and Anchors.   \n",
        "And preprocess them"
      ],
      "metadata": {
        "id": "xLDpuAVAzk4c"
      }
    },
    {
      "cell_type": "markdown",
      "source": [
        "  \n",
        "My positive and anchor images were stored in my Google Drive."
      ],
      "metadata": {
        "id": "ZB0WKwLPFpGv"
      }
    },
    {
      "cell_type": "code",
      "source": [
        "from google.colab import drive\n",
        "drive.mount('/content/drive/')"
      ],
      "metadata": {
        "colab": {
          "base_uri": "https://localhost:8080/"
        },
        "id": "u1usYtu6R7Pi",
        "outputId": "5cd3f100-5108-47e8-8103-13939426f83b"
      },
      "execution_count": 6,
      "outputs": [
        {
          "output_type": "stream",
          "name": "stdout",
          "text": [
            "Mounted at /content/drive/\n"
          ]
        }
      ]
    },
    {
      "cell_type": "code",
      "source": [
        "!cp \"/content/drive/MyDrive/TFOD images/face.tar.gz\" /content && cp \"/content/drive/MyDrive/TFOD images/anchor.tar.gz\" /content"
      ],
      "metadata": {
        "id": "Bu5ibPKfpDeS"
      },
      "execution_count": 7,
      "outputs": []
    },
    {
      "cell_type": "markdown",
      "source": [
        "uncompressed data file of positive image"
      ],
      "metadata": {
        "id": "kLov-E8FC9tU"
      }
    },
    {
      "cell_type": "code",
      "source": [
        "!tar -xzf face.tar.gz && tar -xzf anchor.tar.gz"
      ],
      "metadata": {
        "id": "2ymx8putOjKd"
      },
      "execution_count": 8,
      "outputs": []
    },
    {
      "cell_type": "markdown",
      "source": [
        "resize and store positive and anchor images in data folder, in their appropriate folders."
      ],
      "metadata": {
        "id": "0Xfyod7byUqu"
      }
    },
    {
      "cell_type": "code",
      "source": [
        "width = 250\n",
        "height = 250\n",
        "dim = (width, height)\n"
      ],
      "metadata": {
        "id": "dqSn38DPyc67"
      },
      "execution_count": 9,
      "outputs": []
    },
    {
      "cell_type": "code",
      "source": [
        "anch_pos = [\"/content/Anchor/\",\"/content/Myimages\"]\n",
        "\n",
        "for path in anch_pos:\n",
        "  for filename in os.listdir(path):\n",
        "    if filename.endswith('.jpg'):\n",
        "      try:\n",
        "        if 'Anchor' in path:\n",
        "          img = cv2.imread(\"/content/Anchor/\" + filename, cv2.IMREAD_UNCHANGED)\n",
        "          new_img = cv2.resize(img, dim, interpolation = cv2.INTER_AREA)\n",
        "          cv2.imwrite(ANC_PATH + '/' + filename, new_img)\n",
        "\n",
        "        if 'Myimages' in path:\n",
        "          img = cv2.imread(\"/content/Myimages/\" + filename, cv2.IMREAD_UNCHANGED)\n",
        "          new_img = cv2.resize(img, dim, interpolation = cv2.INTER_AREA)\n",
        "          cv2.imwrite(POS_PATH + '/' + filename, new_img)\n",
        "      except:\n",
        "        pass\n",
        "      "
      ],
      "metadata": {
        "id": "lSIYLsAZzvsz"
      },
      "execution_count": 10,
      "outputs": []
    },
    {
      "cell_type": "markdown",
      "source": [
        "Augument all positive and anchor images to increase data size and possible expose the model to newer samples"
      ],
      "metadata": {
        "id": "6flaLa1gCn13"
      }
    },
    {
      "cell_type": "code",
      "source": [
        "def augment(img):\n",
        "  data = []\n",
        "  for i in range(15):\n",
        "    img = tf.image.stateless_random_brightness(img, max_delta=0.02, seed=(1,2))\n",
        "    img = tf.image.stateless_random_contrast(img, lower=0.6, upper=1, seed=(1,3))\n",
        "    img = tf.image.stateless_random_flip_left_right(img, seed=(np.random.randint(100), np.random.randint(100)))\n",
        "    img = tf.image.stateless_random_jpeg_quality(img, min_jpeg_quality=90, max_jpeg_quality=100, seed=(np.random.randint(100),np.random.randint(100)))\n",
        "    img = tf.image.stateless_random_saturation(img, lower=0.9,upper=1, seed=(np.random.randint(100),np.random.randint(100)))\n",
        "\n",
        "    data.append(img)\n",
        "\n",
        "  return data"
      ],
      "metadata": {
        "id": "r-_qRfliC5Bv"
      },
      "execution_count": 11,
      "outputs": []
    },
    {
      "cell_type": "code",
      "source": [
        "import os\n",
        "import uuid"
      ],
      "metadata": {
        "id": "dotL6qELLvOQ"
      },
      "execution_count": 12,
      "outputs": []
    },
    {
      "cell_type": "code",
      "source": [
        "paths = [POS_PATH, ANC_PATH]\n",
        "\n",
        "for path in paths:\n",
        "  print(\"inside \" + path)\n",
        "  for file_name in os.listdir(os.path.join(path)):\n",
        "    img_path = os.path.join(path, file_name)\n",
        "    img = cv2.imread(img_path)\n",
        "    augmented_images = augment(img) \n",
        "    \n",
        "    for image in augmented_images:\n",
        "        cv2.imwrite(os.path.join(path, '{}.jpg'.format(uuid.uuid1())), image.numpy())"
      ],
      "metadata": {
        "colab": {
          "base_uri": "https://localhost:8080/"
        },
        "id": "KBBtvhO-mv39",
        "outputId": "33649bcd-7f68-4c63-b98a-5f112438a3b7"
      },
      "execution_count": 13,
      "outputs": [
        {
          "output_type": "stream",
          "name": "stdout",
          "text": [
            "inside data/positive\n",
            "inside data/anchor\n"
          ]
        }
      ]
    },
    {
      "cell_type": "markdown",
      "source": [
        "check the no of positive and anchor images"
      ],
      "metadata": {
        "id": "p8IPDpxwoIt0"
      }
    },
    {
      "cell_type": "code",
      "source": [
        "for path in paths:\n",
        "  print(\"no of images in \" + path + \" : \", end=\"\")\n",
        "  a = 0\n",
        "  for image in os.listdir(os.path.join(path)):\n",
        "    if image.endswith('.jpg'):\n",
        "      a = a + 1\n",
        "  print(a)"
      ],
      "metadata": {
        "colab": {
          "base_uri": "https://localhost:8080/"
        },
        "id": "VBWG2lEUoTiH",
        "outputId": "e940e89d-6b8c-4cbc-8b4f-55125d618d40"
      },
      "execution_count": 14,
      "outputs": [
        {
          "output_type": "stream",
          "name": "stdout",
          "text": [
            "no of images in data/positive : 480\n",
            "no of images in data/anchor : 480\n"
          ]
        }
      ]
    },
    {
      "cell_type": "markdown",
      "source": [
        "#Collect Negative Images"
      ],
      "metadata": {
        "id": "ia4tUZTCQjl4"
      }
    },
    {
      "cell_type": "code",
      "source": [
        "!wget -O wildImages.tar http://vis-www.cs.umass.edu/lfw/lfw.tgz"
      ],
      "metadata": {
        "id": "_jGoz1IXorPj",
        "colab": {
          "base_uri": "https://localhost:8080/"
        },
        "outputId": "bf1c17a7-3269-4507-8cef-e6e06ee784c0"
      },
      "execution_count": 15,
      "outputs": [
        {
          "output_type": "stream",
          "name": "stdout",
          "text": [
            "--2022-09-24 17:39:57--  http://vis-www.cs.umass.edu/lfw/lfw.tgz\n",
            "Resolving vis-www.cs.umass.edu (vis-www.cs.umass.edu)... 128.119.244.95\n",
            "Connecting to vis-www.cs.umass.edu (vis-www.cs.umass.edu)|128.119.244.95|:80... connected.\n",
            "HTTP request sent, awaiting response... 200 OK\n",
            "Length: 180566744 (172M) [application/x-gzip]\n",
            "Saving to: ‘wildImages.tar’\n",
            "\n",
            "wildImages.tar      100%[===================>] 172.20M   104MB/s    in 1.7s    \n",
            "\n",
            "2022-09-24 17:39:59 (104 MB/s) - ‘wildImages.tar’ saved [180566744/180566744]\n",
            "\n"
          ]
        }
      ]
    },
    {
      "cell_type": "markdown",
      "source": [
        "###Untar Labelled Faces in the wild Dataset\n",
        "\n"
      ],
      "metadata": {
        "id": "P-9fwnZBF-MT"
      }
    },
    {
      "cell_type": "code",
      "source": [
        "!tar -xzf wildImages.tar"
      ],
      "metadata": {
        "id": "6BxCyZaMmm5N"
      },
      "execution_count": 16,
      "outputs": []
    },
    {
      "cell_type": "code",
      "source": [
        "# move ifw images to the negative folder image directory\n",
        "# a = 0\n",
        "# no_of_neg_img = 450\n",
        "for directory in os.listdir('lfw'):\n",
        "  for file in os.listdir(os.path.join('lfw', directory)):\n",
        "    # a = a + 1;\n",
        "\n",
        "    # if ( a == no_of_neg_img):\n",
        "    #   break\n",
        "\n",
        "    old_path = os.path.join('lfw', directory, file)\n",
        "    new_path = os.path.join(NEG_PATH, file)\n",
        "    os.replace(old_path, new_path)"
      ],
      "metadata": {
        "id": "IXbP-9PbnBwt"
      },
      "execution_count": 17,
      "outputs": []
    },
    {
      "cell_type": "markdown",
      "source": [
        "#Load and Preprocess Images"
      ],
      "metadata": {
        "id": "-Y4lrPAUGNMQ"
      }
    },
    {
      "cell_type": "markdown",
      "source": [
        "##Get image directories"
      ],
      "metadata": {
        "id": "mkR8nI7eFXeC"
      }
    },
    {
      "cell_type": "code",
      "source": [
        "anchor = tf.data.Dataset.list_files(ANC_PATH+'/*.jpg').take(450)\n",
        "positive = tf.data.Dataset.list_files(POS_PATH+'/*.jpg').take(450)\n",
        "negative = tf.data.Dataset.list_files(NEG_PATH+'/*.jpg').take(450)\n"
      ],
      "metadata": {
        "id": "9SjbqqOeFatT"
      },
      "execution_count": 18,
      "outputs": []
    },
    {
      "cell_type": "code",
      "source": [
        "dir_test = anchor.as_numpy_iterator()"
      ],
      "metadata": {
        "id": "BATz018fGkLg"
      },
      "execution_count": 19,
      "outputs": []
    },
    {
      "cell_type": "code",
      "source": [
        "print(dir_test.next())"
      ],
      "metadata": {
        "colab": {
          "base_uri": "https://localhost:8080/"
        },
        "id": "qZrkp049Gnaf",
        "outputId": "21952e3a-edde-4154-8e05-b1c83859aebc"
      },
      "execution_count": 20,
      "outputs": [
        {
          "output_type": "stream",
          "name": "stdout",
          "text": [
            "b'data/anchor/e7ec657a-3c2f-11ed-8b70-0242ac1c0002.jpg'\n"
          ]
        }
      ]
    },
    {
      "cell_type": "markdown",
      "source": [
        "#Preprocessing - Scale and Resize"
      ],
      "metadata": {
        "id": "ULIHARpMGshc"
      }
    },
    {
      "cell_type": "code",
      "source": [
        "def preprocess(file_Path):\n",
        "\n",
        "  byte_img = tf.io.read_file(file_Path)\n",
        "\n",
        "  img = tf.io.decode_jpeg(byte_img)\n",
        "\n",
        "  img = tf.image.resize(img, (100, 100))\n",
        "  img = img / 255.0\n",
        "\n",
        "  return img"
      ],
      "metadata": {
        "id": "oD-UZll2GxgL"
      },
      "execution_count": 21,
      "outputs": []
    },
    {
      "cell_type": "code",
      "source": [
        "img = preprocess('data/anchor/IMG_20220920_152033_954.jpg')\n"
      ],
      "metadata": {
        "id": "shtlEl0TKSwB"
      },
      "execution_count": 22,
      "outputs": []
    },
    {
      "cell_type": "code",
      "source": [
        "img.numpy().max() \n"
      ],
      "metadata": {
        "colab": {
          "base_uri": "https://localhost:8080/"
        },
        "id": "3tcQ1_2wKS7e",
        "outputId": "79e793fc-624f-46f9-894b-7cf6d59ffd9b"
      },
      "execution_count": 23,
      "outputs": [
        {
          "output_type": "execute_result",
          "data": {
            "text/plain": [
              "1.0"
            ]
          },
          "metadata": {},
          "execution_count": 23
        }
      ]
    },
    {
      "cell_type": "markdown",
      "source": [
        "#Create Labelled Dataset"
      ],
      "metadata": {
        "id": "Pw5VO30-KTzu"
      }
    },
    {
      "cell_type": "code",
      "source": [
        "positives = tf.data.Dataset.zip((anchor, positive, tf.data.Dataset.from_tensor_slices(tf.ones(len(anchor)))))\n",
        "negatives = tf.data.Dataset.zip((anchor, negative, tf.data.Dataset.from_tensor_slices(tf.zeros(len(anchor)))))\n",
        "data = positives.concatenate(negatives)\n"
      ],
      "metadata": {
        "id": "GpBWwVF1j36J"
      },
      "execution_count": 24,
      "outputs": []
    },
    {
      "cell_type": "code",
      "source": [
        "samples = data.as_numpy_iterator()"
      ],
      "metadata": {
        "id": "InPZYs91kHsB"
      },
      "execution_count": 25,
      "outputs": []
    },
    {
      "cell_type": "code",
      "source": [
        "example = samples.next()"
      ],
      "metadata": {
        "id": "KWzOgaD_kLpf"
      },
      "execution_count": 26,
      "outputs": []
    },
    {
      "cell_type": "code",
      "source": [
        "example"
      ],
      "metadata": {
        "colab": {
          "base_uri": "https://localhost:8080/"
        },
        "id": "WD6Yvd0ykQT8",
        "outputId": "34eb87a3-93e1-4667-c19d-43aa74ab5a86"
      },
      "execution_count": 27,
      "outputs": [
        {
          "output_type": "execute_result",
          "data": {
            "text/plain": [
              "(b'data/anchor/e7576394-3c2f-11ed-8b70-0242ac1c0002.jpg',\n",
              " b'data/positive/e5d6a732-3c2f-11ed-8b70-0242ac1c0002.jpg',\n",
              " 1.0)"
            ]
          },
          "metadata": {},
          "execution_count": 27
        }
      ]
    },
    {
      "cell_type": "markdown",
      "source": [
        "#Build Train and Test Partition"
      ],
      "metadata": {
        "id": "3efUieojkSxO"
      }
    },
    {
      "cell_type": "code",
      "source": [
        "def preprocess_twin(input_img, validation_img, label):\n",
        "  return( preprocess(input_img), preprocess(validation_img), label)"
      ],
      "metadata": {
        "id": "WMCLcJ6GkaCq"
      },
      "execution_count": 28,
      "outputs": []
    },
    {
      "cell_type": "code",
      "source": [
        "res = preprocess_twin(*example)"
      ],
      "metadata": {
        "id": "FNy6X7lVkqUw"
      },
      "execution_count": 29,
      "outputs": []
    },
    {
      "cell_type": "code",
      "source": [
        "plt.imshow(res[1])"
      ],
      "metadata": {
        "colab": {
          "base_uri": "https://localhost:8080/",
          "height": 285
        },
        "id": "Kkr1dsyPkw9I",
        "outputId": "6d00cb96-1ed6-4b0b-cd84-1d4f2482d2cc"
      },
      "execution_count": 30,
      "outputs": [
        {
          "output_type": "execute_result",
          "data": {
            "text/plain": [
              "<matplotlib.image.AxesImage at 0x7fbe7d1159d0>"
            ]
          },
          "metadata": {},
          "execution_count": 30
        },
        {
          "output_type": "display_data",
          "data": {
            "text/plain": [
              "<Figure size 432x288 with 1 Axes>"
            ],
            "image/png": "[encoded data removed]"
          },
          "metadata": {
            "needs_background": "light"
          }
        }
      ]
    },
    {
      "cell_type": "code",
      "source": [
        "res[2]"
      ],
      "metadata": {
        "colab": {
          "base_uri": "https://localhost:8080/"
        },
        "id": "DddbyPGPl4HH",
        "outputId": "de780d7a-8bed-4e8c-f568-3bcc4817779f"
      },
      "execution_count": 31,
      "outputs": [
        {
          "output_type": "execute_result",
          "data": {
            "text/plain": [
              "1.0"
            ]
          },
          "metadata": {},
          "execution_count": 31
        }
      ]
    },
    {
      "cell_type": "markdown",
      "source": [
        "Build dataloader and split data into train and test partition"
      ],
      "metadata": {
        "id": "Xtm95k4hl-VJ"
      }
    },
    {
      "cell_type": "code",
      "source": [
        "data = data.map(preprocess_twin)\n",
        "data = data.cache()\n",
        "data = data.shuffle(buffer_size=1000)"
      ],
      "metadata": {
        "id": "7RQnYliwmCnb"
      },
      "execution_count": 32,
      "outputs": []
    },
    {
      "cell_type": "code",
      "source": [
        "# train partition\n",
        "train_data = data.take(round(len(data)*.7))\n",
        "train_data = train_data.batch(16)\n",
        "train_data = train_data.prefetch(8)"
      ],
      "metadata": {
        "id": "juTid7xMmfD8"
      },
      "execution_count": 33,
      "outputs": []
    },
    {
      "cell_type": "code",
      "source": [
        "# test partition\n",
        "test_data = data.skip(round(len(data)*.7))\n",
        "test_data = test_data.take(round(len(data)*.3))\n",
        "test_data = test_data.batch(16)\n",
        "test_data = test_data.prefetch(8)"
      ],
      "metadata": {
        "id": "_oC3aCcwm5Qm"
      },
      "execution_count": 34,
      "outputs": []
    },
    {
      "cell_type": "code",
      "source": [],
      "metadata": {
        "id": "XuwUU6FMnOUa"
      },
      "execution_count": null,
      "outputs": []
    },
    {
      "cell_type": "markdown",
      "source": [
        "#Model Engineering"
      ],
      "metadata": {
        "id": "GKjNe78SnVIH"
      }
    },
    {
      "cell_type": "markdown",
      "source": [
        "##Build Embedding Layer   \n",
        "create a function that creates our embedding layer"
      ],
      "metadata": {
        "id": "V-YiZ4rZnaWf"
      }
    },
    {
      "cell_type": "code",
      "source": [
        "def make_embedding():\n",
        "  inp = Input(shape=(100, 100,3), name='input_image')\n",
        "\n",
        "  # block 1\n",
        "  c1 = Conv2D(64, (10,10), activation='relu')(inp)\n",
        "  m1 = MaxPooling2D(64, (2,2), padding='same')(c1)\n",
        "\n",
        "  # block 2\n",
        "  c2 = Conv2D(128, (7,7), activation='relu')(m1)\n",
        "  m2 = MaxPooling2D(64, (2,2), padding='same')(c2)\n",
        "\n",
        "  # block 3\n",
        "  c3 = Conv2D(128, (4,4), activation='relu')(m2)\n",
        "  m3 = MaxPooling2D(64, (2,2), padding='same')(c3)\n",
        "\n",
        "  # block 4\n",
        "  c4 = Conv2D(128, (4,4), activation='relu')(m3)\n",
        "  f1 = Flatten()(c4)\n",
        "  d1 = Dense(4096, activation='sigmoid')(f1)\n",
        "\n",
        "  return Model(inputs=[inp], outputs=[d1], name='embedding')"
      ],
      "metadata": {
        "id": "ATDs5mQsnfOv"
      },
      "execution_count": 37,
      "outputs": []
    },
    {
      "cell_type": "code",
      "source": [
        "embedding = make_embedding()"
      ],
      "metadata": {
        "id": "9fJ8XhOLrXgu"
      },
      "execution_count": 38,
      "outputs": []
    },
    {
      "cell_type": "code",
      "source": [
        "embedding.summary()"
      ],
      "metadata": {
        "colab": {
          "base_uri": "https://localhost:8080/"
        },
        "id": "0HylDNVbtC0e",
        "outputId": "e16c2061-8bce-4945-bad7-589070cc2726"
      },
      "execution_count": 39,
      "outputs": [
        {
          "output_type": "stream",
          "name": "stdout",
          "text": [
            "Model: \"embedding\"\n",
            "_________________________________________________________________\n",
            "Layer (type)                 Output Shape              Param #   \n",
            "=================================================================\n",
            "input_image (InputLayer)     [(None, 100, 100, 3)]     0         \n",
            "_________________________________________________________________\n",
            "conv2d (Conv2D)              (None, 91, 91, 64)        19264     \n",
            "_________________________________________________________________\n",
            "max_pooling2d (MaxPooling2D) (None, 46, 46, 64)        0         \n",
            "_________________________________________________________________\n",
            "conv2d_1 (Conv2D)            (None, 40, 40, 128)       401536    \n",
            "_________________________________________________________________\n",
            "max_pooling2d_1 (MaxPooling2 (None, 20, 20, 128)       0         \n",
            "_________________________________________________________________\n",
            "conv2d_2 (Conv2D)            (None, 17, 17, 128)       262272    \n",
            "_________________________________________________________________\n",
            "max_pooling2d_2 (MaxPooling2 (None, 9, 9, 128)         0         \n",
            "_________________________________________________________________\n",
            "conv2d_3 (Conv2D)            (None, 6, 6, 128)         262272    \n",
            "_________________________________________________________________\n",
            "flatten (Flatten)            (None, 4608)              0         \n",
            "_________________________________________________________________\n",
            "dense (Dense)                (None, 4096)              18878464  \n",
            "=================================================================\n",
            "Total params: 19,823,808\n",
            "Trainable params: 19,823,808\n",
            "Non-trainable params: 0\n",
            "_________________________________________________________________\n"
          ]
        }
      ]
    },
    {
      "cell_type": "markdown",
      "source": [
        "###Build Distance layer"
      ],
      "metadata": {
        "id": "yCUwI_AEtP-U"
      }
    },
    {
      "cell_type": "code",
      "source": [
        "# siamese L1 Distance class\n",
        "class L1Dist(Layer):\n",
        "\n",
        "  def __init_(self, **kwargs):\n",
        "    super().__inti__()\n",
        "\n",
        "  def call(self, input_embedding, validation_embedding):\n",
        "    return tf.math.abs(input_embedding - validation_embedding)"
      ],
      "metadata": {
        "id": "HXZk_2H3tuHK"
      },
      "execution_count": 40,
      "outputs": []
    },
    {
      "cell_type": "code",
      "source": [
        "l1 = L1Dist()"
      ],
      "metadata": {
        "id": "6Y9Bdm45uKw1"
      },
      "execution_count": 41,
      "outputs": []
    },
    {
      "cell_type": "markdown",
      "source": [
        "##Make Siamese Model"
      ],
      "metadata": {
        "id": "_f_0aauTuLMD"
      }
    },
    {
      "cell_type": "code",
      "source": [
        "def make_siamese_model():\n",
        "\n",
        "  input_image = Input(name='input_img', shape=(100, 100, 3))\n",
        "\n",
        "  # validation image\n",
        "  validation_image = Input(name='validation_ing', shape=(100, 100, 3))\n",
        "\n",
        "  # combine siamese distance components\n",
        "  siamese_layer = L1Dist()\n",
        "  siamese_layer._name = 'distance'\n",
        "  distances = siamese_layer(embedding(input_image), embedding(validation_image))\n",
        "\n",
        "  # classification layer\n",
        "  classifier = Dense(1, activation='sigmoid')(distances)\n",
        "\n",
        "  return Model(inputs=[input_image, validation_image], outputs=classifier, name='SiameseNetwork')\n"
      ],
      "metadata": {
        "id": "sLIza8TqvbUd"
      },
      "execution_count": 42,
      "outputs": []
    },
    {
      "cell_type": "code",
      "source": [
        "siamese_model = make_siamese_model()"
      ],
      "metadata": {
        "id": "ySCLMBKZww0D"
      },
      "execution_count": 43,
      "outputs": []
    },
    {
      "cell_type": "code",
      "source": [
        "siamese_model.summary()"
      ],
      "metadata": {
        "id": "iLK9B701wxKq"
      },
      "execution_count": null,
      "outputs": []
    },
    {
      "cell_type": "markdown",
      "source": [
        "#Training"
      ],
      "metadata": {
        "id": "1rIUgfTBzRvR"
      }
    },
    {
      "cell_type": "code",
      "source": [
        "binary_cross_loss = tf.losses.BinaryCrossentropy()\n"
      ],
      "metadata": {
        "id": "nEsKH0bt4KHd"
      },
      "execution_count": 47,
      "outputs": []
    },
    {
      "cell_type": "code",
      "source": [
        "opt = tf.keras.optimizers.Adam(1e-4)"
      ],
      "metadata": {
        "id": "imv2GGE80Ocs"
      },
      "execution_count": 50,
      "outputs": []
    },
    {
      "cell_type": "markdown",
      "source": [
        "##Establish Checkpoints"
      ],
      "metadata": {
        "id": "s-MBsBW84a0d"
      }
    },
    {
      "cell_type": "code",
      "source": [
        "checkpoint_dir = './training_checkpoints'\n",
        "checkpoint_prefix = os.path.join(checkpoint_dir, 'ckpt')\n",
        "checkpoint = tf.train.Checkpoint(opt=opt, siamese_model=siamese_model)\n"
      ],
      "metadata": {
        "id": "HkRmi3kB4iKv"
      },
      "execution_count": 51,
      "outputs": []
    },
    {
      "cell_type": "markdown",
      "source": [
        "Build train step function"
      ],
      "metadata": {
        "id": "gVqbkJJ-47SK"
      }
    },
    {
      "cell_type": "code",
      "source": [
        "@tf.function\n",
        "def train_step(batch):\n",
        "\n",
        "  # record all of the operations\n",
        "  with tf.GradientTape() as tape:\n",
        "\n",
        "    X = batch[:2]\n",
        "    # get label\n",
        "    Y = batch[2]\n",
        "\n",
        "    # forward pass\n",
        "    yhat = siamese_model(X, training=True)\n",
        "    # calculate loss\n",
        "    loss = binary_cross_loss(Y, yhat)\n",
        "\n",
        "  print(loss)\n",
        "\n",
        "  # calculate gradients\n",
        "  grad = tape.gradient(loss, siamese_model.trainable_variables)\n",
        "\n",
        "  # calculate updated weights and apply to siamese model\n",
        "  opt.apply_gradients(zip(grad, siamese_model.trainable_variables))\n",
        "\n",
        "  # return loss\n",
        "  return loss\n"
      ],
      "metadata": {
        "id": "Y7vAUsiL4_s1"
      },
      "execution_count": 58,
      "outputs": []
    },
    {
      "cell_type": "markdown",
      "source": [
        "build training loop"
      ],
      "metadata": {
        "id": "VBVsN_3i-X2l"
      }
    },
    {
      "cell_type": "code",
      "source": [
        "# import metric calculations\n",
        "from tensorflow.keras.metrics import Precision, Recall"
      ],
      "metadata": {
        "id": "LdQib0HP-w3Q"
      },
      "execution_count": 59,
      "outputs": []
    },
    {
      "cell_type": "code",
      "source": [
        "def train(data, EPOCHS):\n",
        "  for epoch in range(1, EPOCHS+1):\n",
        "    print('\\n Epoch {}/{}'.format(epoch, EPOCHS))\n",
        "    progbar = tf.keras.utils.Progbar(len(data))\n",
        "\n",
        "    # initializing metric objects\n",
        "    r = Recall()\n",
        "    p = Precision()\n",
        "\n",
        "    # go through each batch\n",
        "    for idx, batch in enumerate(data):\n",
        "\n",
        "      # train step\n",
        "      loss = train_step(batch)\n",
        "      yhat = siamese_model.predict(batch[:2])\n",
        "      r.update_state(batch[2], yhat)\n",
        "      p.update_state(batch[2], yhat)\n",
        "      progbar.update(idx+1)\n",
        "\n",
        "      print(loss.numpy(), r.result().numpy(), p.result().numpy())\n",
        "\n",
        "      # save checkpoints\n",
        "      if epoch % 10 == 0:\n",
        "        checkpoint.save(file_prefix=checkpoint_prefix)\n"
      ],
      "metadata": {
        "id": "CRjuo6Ue-ji9"
      },
      "execution_count": 60,
      "outputs": []
    },
    {
      "cell_type": "markdown",
      "source": [
        "##Train the model"
      ],
      "metadata": {
        "id": "S_x8cKH1AreO"
      }
    },
    {
      "cell_type": "code",
      "source": [
        "EPOCHS = 50"
      ],
      "metadata": {
        "id": "c8MJDAUCClfX"
      },
      "execution_count": 61,
      "outputs": []
    },
    {
      "cell_type": "code",
      "source": [
        "train(train_data, EPOCHS)"
      ],
      "metadata": {
        "colab": {
          "base_uri": "https://localhost:8080/",
          "height": 1000
        },
        "id": "bpQ957ACCoVr",
        "outputId": "b0578d21-11a2-4209-b68c-4386b9d59df8"
      },
      "execution_count": 62,
      "outputs": [
        {
          "output_type": "stream",
          "name": "stdout",
          "text": [
            "\n",
            " Epoch 1/50\n",
            "Tensor(\"binary_crossentropy/weighted_loss/value:0\", shape=(), dtype=float32)\n",
            "Tensor(\"binary_crossentropy/weighted_loss/value:0\", shape=(), dtype=float32)\n",
            " 1/40 [..............................] - ETA: 13:060.6946166 0.42857143 1.0\n",
            " 2/40 [>.............................] - ETA: 12:030.6809044 0.2857143 1.0\n",
            " 3/40 [=>............................] - ETA: 11:430.64833283 0.18181819 1.0\n",
            " 4/40 [==>...........................] - ETA: 11:230.6270515 0.15625 1.0\n",
            " 5/40 [==>...........................] - ETA: 11:040.47611398 0.16216215 1.0\n",
            " 6/40 [===>..........................] - ETA: 10:490.5779389 0.23913044 1.0\n",
            " 7/40 [====>.........................] - ETA: 10:290.56784534 0.36206895 1.0\n",
            " 8/40 [=====>........................] - ETA: 10:150.40658432 0.37878788 1.0\n",
            " 9/40 [=====>........................] - ETA: 9:54 0.39977118 0.3918919 1.0\n",
            "10/40 [======>.......................] - ETA: 9:510.38711667 0.42168674 1.0\n",
            "11/40 [=======>......................] - ETA: 9:290.39275944 0.42857143 1.0\n",
            "12/40 [========>.....................] - ETA: 9:070.42351627 0.48514852 1.0\n",
            "13/40 [========>.....................] - ETA: 8:460.31403947 0.5185185 1.0\n",
            "14/40 [=========>....................] - ETA: 8:260.4201839 0.5423729 1.0\n",
            "15/40 [==========>...................] - ETA: 8:050.23897475 0.5645161 1.0\n",
            "16/40 [===========>..................] - ETA: 7:460.28766426 0.5801527 1.0\n",
            "17/40 [===========>..................] - ETA: 7:340.3245249 0.6028369 1.0\n",
            "18/40 [============>.................] - ETA: 7:190.33595446 0.6225166 1.0\n",
            "19/40 [=============>................] - ETA: 6:580.31107134 0.6415094 1.0\n",
            "20/40 [==============>...............] - ETA: 6:430.20769188 0.6566265 1.0\n",
            "21/40 [==============>...............] - ETA: 6:300.14850217 0.67052025 1.0\n",
            "22/40 [===============>..............] - ETA: 6:160.042382427 0.6779661 1.0\n",
            "23/40 [================>.............] - ETA: 5:580.09764621 0.6902174 1.0\n",
            "24/40 [=================>............] - ETA: 5:360.12555277 0.7046632 1.0\n",
            "25/40 [=================>............] - ETA: 5:160.0777547 0.7128713 1.0\n",
            "26/40 [==================>...........] - ETA: 4:550.074889466 0.7198068 1.0\n",
            "27/40 [===================>..........] - ETA: 4:350.10193251 0.7276995 1.0\n",
            "28/40 [====================>.........] - ETA: 4:180.06352014 0.7375566 1.0\n",
            "29/40 [====================>.........] - ETA: 3:570.06412279 0.74891776 1.0\n",
            "30/40 [=====================>........] - ETA: 3:370.04268363 0.7583333 1.0\n",
            "31/40 [======================>.......] - ETA: 3:160.034540202 0.766129 1.0\n",
            "32/40 [=======================>......] - ETA: 2:540.11912173 0.77692306 1.0\n",
            "33/40 [=======================>......] - ETA: 2:330.15319835 0.7811321 1.0\n",
            "34/40 [========================>.....] - ETA: 2:110.052748952 0.78467155 1.0\n",
            "35/40 [=========================>....] - ETA: 1:490.06068587 0.7907801 1.0\n",
            "36/40 [==========================>...] - ETA: 1:270.008373666 0.7965517 1.0\n",
            "37/40 [==========================>...] - ETA: 1:050.012343628 0.79931974 1.0\n",
            "38/40 [===========================>..] - ETA: 43s 0.041963764 0.80333334 1.0\n",
            "39/40 [============================>.] - ETA: 21s0.16463166 0.80906147 1.0\n",
            "Tensor(\"binary_crossentropy/weighted_loss/value:0\", shape=(), dtype=float32)\n",
            "40/40 [==============================] - 851s 21s/step\n",
            "0.114001274 0.8102894 1.0\n",
            "\n",
            " Epoch 2/50\n",
            " 1/40 [..............................] - ETA: 12:200.15031902 1.0 1.0\n",
            " 2/40 [>.............................] - ETA: 11:590.055365257 1.0 1.0\n",
            " 3/40 [=>............................] - ETA: 11:410.11356715 0.962963 0.962963\n",
            " 4/40 [==>...........................] - ETA: 11:220.057698864 0.972973 0.94736844\n",
            " 5/40 [==>...........................] - ETA: 11:030.06260993 0.9777778 0.95652175\n",
            " 6/40 [===>..........................] - ETA: 10:440.36768496 0.9807692 0.92727274\n",
            " 7/40 [====>.........................] - ETA: 10:240.36476254 0.9830508 0.9354839\n",
            " 8/40 [=====>........................] - ETA: 10:050.1978397 0.9852941 0.9305556\n",
            " 9/40 [=====>........................] - ETA: 10:200.06857353 0.9861111 0.93421054\n",
            "10/40 [======>.......................] - ETA: 10:220.05324755 0.9879518 0.9425287\n",
            "11/40 [=======>......................] - ETA: 10:230.07316622 0.989011 0.94736844\n",
            "12/40 [========>.....................] - ETA: 10:220.16919321 0.98 0.9514563\n",
            "13/40 [========>.....................] - ETA: 10:070.034324616 0.9809524 0.9537037\n",
            "14/40 [=========>....................] - ETA: 9:41 0.23140398 0.9655172 0.95726496\n",
            "15/40 [==========>...................] - ETA: 9:200.08131291 0.96031743 0.96031743\n",
            "16/40 [===========>..................] - ETA: 9:050.005435893 0.96153843 0.96153843\n",
            "17/40 [===========>..................] - ETA: 8:500.14506797 0.9640288 0.9640288\n",
            "18/40 [============>.................] - ETA: 8:300.08754272 0.9659864 0.9659864\n",
            "19/40 [=============>................] - ETA: 8:070.013627468 0.9681529 0.9681529\n",
            "20/40 [==============>...............] - ETA: 7:430.0707698 0.9698795 0.9698795\n",
            "21/40 [==============>...............] - ETA: 7:260.024709523 0.97126436 0.97126436\n",
            "22/40 [===============>..............] - ETA: 6:590.0344266 0.9723757 0.9723757\n",
            "23/40 [================>.............] - ETA: 6:320.021271951 0.9731183 0.9731183\n",
            "24/40 [=================>............] - ETA: 6:070.028046874 0.97409326 0.97409326\n",
            "25/40 [=================>............] - ETA: 5:410.06809897 0.9744898 0.9744898\n",
            "26/40 [==================>...........] - ETA: 5:170.0064113885 0.9754902 0.9754902\n",
            "27/40 [===================>..........] - ETA: 4:520.08402861 0.9764151 0.9764151\n",
            "28/40 [====================>.........] - ETA: 4:280.07060913 0.9728507 0.97727275\n",
            "29/40 [====================>.........] - ETA: 4:040.045133993 0.9736842 0.9779736\n",
            "30/40 [=====================>........] - ETA: 3:410.045908198 0.9745763 0.9787234\n",
            "31/40 [======================>.......] - ETA: 3:180.009515095 0.9756098 0.97959185\n",
            "32/40 [=======================>......] - ETA: 2:550.47321954 0.97619045 0.9800797\n",
            "33/40 [=======================>......] - ETA: 2:320.0546831 0.97307694 0.98062015\n",
            "34/40 [========================>.....] - ETA: 2:100.08105294 0.9702602 0.981203\n",
            "35/40 [=========================>....] - ETA: 1:480.010875097 0.9709091 0.9816176\n",
            "36/40 [==========================>...] - ETA: 1:260.07978974 0.97183096 0.9822064\n",
            "37/40 [==========================>...] - ETA: 1:040.10248941 0.972973 0.98293513\n",
            "38/40 [===========================>..] - ETA: 42s 0.032052092 0.9736842 0.9833887\n",
            "39/40 [============================>.] - ETA: 21s0.33283836 0.9744409 0.983871\n",
            "40/40 [==============================] - 839s 21s/step\n",
            "0.14857304 0.9745223 0.98392284\n",
            "\n",
            " Epoch 3/50\n",
            " 1/40 [..............................] - ETA: 12:150.0184204 1.0 1.0\n",
            " 2/40 [>.............................] - ETA: 11:580.06915057 1.0 1.0\n",
            " 3/40 [=>............................] - ETA: 11:390.06999277 0.95238096 1.0\n",
            " 4/40 [==>...........................] - ETA: 11:200.03604749 0.96 1.0\n",
            " 5/40 [==>...........................] - ETA: 11:000.10153429 0.96875 1.0\n",
            " 6/40 [===>..........................] - ETA: 10:420.09672228 0.975 1.0\n",
            " 7/40 [====>.........................] - ETA: 10:230.01750233 0.9782609 1.0\n",
            " 8/40 [=====>........................] - ETA: 10:040.11518034 0.9814815 1.0\n",
            " 9/40 [=====>........................] - ETA: 9:46 0.14052387 0.969697 1.0\n",
            "10/40 [======>.......................] - ETA: 9:270.29436374 0.9594595 0.9861111\n",
            "11/40 [=======>......................] - ETA: 9:080.07365001 0.9625 0.98717946\n",
            "12/40 [========>.....................] - ETA: 8:490.031342935 0.96590906 0.9883721\n",
            "13/40 [========>.....................] - ETA: 8:300.023534827 0.96875 0.9893617\n",
            "14/40 [=========>....................] - ETA: 8:110.028342696 0.9705882 0.99\n",
            "15/40 [==========>...................] - ETA: 7:520.058945045 0.9727273 0.9907407\n",
            "16/40 [===========>..................] - ETA: 7:330.055964865 0.9741379 0.99122804\n",
            "17/40 [===========>..................] - ETA: 7:140.027342198 0.97637796 0.992\n",
            "18/40 [============>.................] - ETA: 6:560.008351778 0.97709924 0.99224806\n",
            "19/40 [=============>................] - ETA: 6:370.03449832 0.9787234 0.9928058\n",
            "20/40 [==============>...............] - ETA: 6:180.056580044 0.97959185 0.99310344\n",
            "21/40 [==============>...............] - ETA: 5:590.018518489 0.98039216 0.9933775\n",
            "22/40 [===============>..............] - ETA: 5:400.04129946 0.9811321 0.9936306\n",
            "23/40 [================>.............] - ETA: 5:210.06904158 0.98214287 0.9939759\n",
            "24/40 [=================>............] - ETA: 5:020.13322687 0.98295456 0.99425286\n",
            "25/40 [=================>............] - ETA: 4:430.024193157 0.9840425 0.99462366\n",
            "26/40 [==================>...........] - ETA: 4:240.020167775 0.9846939 0.9948454\n",
            "27/40 [===================>..........] - ETA: 4:050.105273336 0.9854369 0.99509805\n",
            "28/40 [====================>.........] - ETA: 3:470.038395066 0.9859155 0.99526066\n",
            "29/40 [====================>.........] - ETA: 3:280.0522598 0.98642534 0.9954338\n",
            "30/40 [=====================>........] - ETA: 3:090.027450114 0.98689955 0.99559474\n",
            "31/40 [======================>.......] - ETA: 2:500.018569943 0.98734176 0.9957447\n",
            "32/40 [=======================>......] - ETA: 2:310.03654184 0.9879518 0.9959514\n",
            "33/40 [=======================>......] - ETA: 2:120.008765513 0.9882353 0.99604744\n",
            "34/40 [========================>.....] - ETA: 1:530.10367804 0.9848485 0.99616855\n",
            "35/40 [=========================>....] - ETA: 1:340.042507973 0.9852941 0.9962825\n",
            "36/40 [==========================>...] - ETA: 1:150.016177181 0.9858156 0.9964158\n",
            "37/40 [==========================>...] - ETA: 56s 0.034104474 0.9862543 0.9965278\n",
            "38/40 [===========================>..] - ETA: 37s0.015543924 0.98657715 0.99661016\n",
            "39/40 [============================>.] - ETA: 18s0.061475743 0.9871383 0.9967533\n",
            "40/40 [==============================] - 745s 19s/step\n",
            "0.005235936 0.9872612 0.99678457\n",
            "\n",
            " Epoch 4/50\n",
            " 1/40 [..............................] - ETA: 12:190.02706349 1.0 1.0\n",
            " 2/40 [>.............................] - ETA: 11:570.0019169085 1.0 1.0\n",
            " 3/40 [=>............................] - ETA: 11:380.06463392 1.0 1.0\n",
            " 4/40 [==>...........................] - ETA: 11:200.030684555 1.0 1.0\n",
            " 5/40 [==>...........................] - ETA: 11:010.0036961236 1.0 1.0\n",
            " 6/40 [===>..........................] - ETA: 10:420.02194305 1.0 1.0\n",
            " 7/40 [====>.........................] - ETA: 10:230.08259827 1.0 1.0\n",
            " 8/40 [=====>........................] - ETA: 10:050.0056003383 1.0 1.0\n",
            " 9/40 [=====>........................] - ETA: 9:46 0.0849479 0.98507464 1.0\n",
            "10/40 [======>.......................] - ETA: 9:260.054480884 0.98630136 1.0\n",
            "11/40 [=======>......................] - ETA: 9:080.0055011 0.9875 1.0\n",
            "12/40 [========>.....................] - ETA: 8:490.047329135 0.9892473 1.0\n",
            "13/40 [========>.....................] - ETA: 8:300.012070561 0.99 1.0\n",
            "14/40 [=========>....................] - ETA: 8:110.0029528802 0.9904762 1.0\n",
            "15/40 [==========>...................] - ETA: 7:520.055221174 0.981982 1.0\n",
            "16/40 [===========>..................] - ETA: 7:330.0051046023 0.9834711 1.0\n",
            "17/40 [===========>..................] - ETA: 7:140.0008247344 0.9846154 1.0\n",
            "18/40 [============>.................] - ETA: 6:550.020054303 0.98550725 1.0\n",
            "19/40 [=============>................] - ETA: 6:360.06688195 0.9863946 1.0\n",
            "20/40 [==============>...............] - ETA: 6:170.014236567 0.9874214 1.0\n",
            "21/40 [==============>...............] - ETA: 5:590.0132822255 0.9881657 1.0\n",
            "22/40 [===============>..............] - ETA: 5:400.010614905 0.98876405 1.0\n",
            "23/40 [================>.............] - ETA: 5:210.023660006 0.98941797 1.0\n",
            "24/40 [=================>............] - ETA: 5:020.0144894635 0.989899 1.0\n",
            "25/40 [=================>............] - ETA: 4:430.007896064 0.9902439 1.0\n",
            "26/40 [==================>...........] - ETA: 4:240.034008365 0.9906103 1.0\n",
            "27/40 [===================>..........] - ETA: 4:050.0033729437 0.9909091 1.0\n",
            "28/40 [====================>.........] - ETA: 3:460.0009166253 0.99126637 1.0\n",
            "29/40 [====================>.........] - ETA: 3:270.023853097 0.991453 1.0\n",
            "30/40 [=====================>........] - ETA: 3:080.0009380874 0.9919355 1.0\n",
            "31/40 [======================>.......] - ETA: 2:490.0004722799 0.9922179 1.0\n",
            "32/40 [=======================>......] - ETA: 2:310.012044062 0.99233717 1.0\n",
            "33/40 [=======================>......] - ETA: 2:120.004961869 0.99261993 1.0\n",
            "34/40 [========================>.....] - ETA: 1:530.019916411 0.9927273 1.0\n",
            "35/40 [=========================>....] - ETA: 1:340.021322533 0.9929078 1.0\n",
            "36/40 [==========================>...] - ETA: 1:150.019045493 0.99310344 1.0\n",
            "37/40 [==========================>...] - ETA: 56s 0.00060486345 0.9932886 1.0\n",
            "38/40 [===========================>..] - ETA: 37s0.00065880374 0.99346405 1.0\n",
            "39/40 [============================>.] - ETA: 18s9.5524745e-05 0.99356914 1.0\n",
            "40/40 [==============================] - 744s 19s/step\n",
            "0.079750836 0.9936508 1.0\n",
            "\n",
            " Epoch 5/50\n",
            " 1/40 [..............................] - ETA: 12:090.020339623 1.0 1.0\n",
            " 2/40 [>.............................] - ETA: 11:570.011832934 1.0 1.0\n",
            " 3/40 [=>............................] - ETA: 11:360.0018068008 1.0 1.0\n",
            " 4/40 [==>...........................] - ETA: 11:180.017094849 1.0 1.0\n",
            " 5/40 [==>...........................] - ETA: 10:580.04673358 1.0 1.0\n",
            " 6/40 [===>..........................] - ETA: 10:400.00698202 1.0 1.0\n",
            " 7/40 [====>.........................] - ETA: 10:220.019126398 1.0 1.0\n",
            " 8/40 [=====>........................] - ETA: 10:039.685759e-08 1.0 1.0\n",
            " 9/40 [=====>........................] - ETA: 9:45 0.00091414823 1.0 1.0\n",
            "10/40 [======>.......................] - ETA: 9:260.014805589 1.0 1.0\n",
            "11/40 [=======>......................] - ETA: 9:070.016989298 1.0 1.0\n",
            "12/40 [========>.....................] - ETA: 8:480.005059613 1.0 1.0\n",
            "13/40 [========>.....................] - ETA: 8:290.0028097339 1.0 1.0\n",
            "14/40 [=========>....................] - ETA: 8:100.00044483197 1.0 1.0\n",
            "15/40 [==========>...................] - ETA: 7:510.041325636 1.0 1.0\n",
            "16/40 [===========>..................] - ETA: 7:330.045534596 1.0 1.0\n",
            "17/40 [===========>..................] - ETA: 7:140.008936586 1.0 1.0\n",
            "18/40 [============>.................] - ETA: 6:550.0005891852 1.0 1.0\n",
            "19/40 [=============>................] - ETA: 6:360.0050135297 1.0 1.0\n",
            "20/40 [==============>...............] - ETA: 6:170.024071686 1.0 1.0\n",
            "21/40 [==============>...............] - ETA: 5:580.0024425257 1.0 1.0\n",
            "22/40 [===============>..............] - ETA: 5:390.0020471679 1.0 1.0\n",
            "23/40 [================>.............] - ETA: 5:210.027428403 1.0 1.0\n",
            "24/40 [=================>............] - ETA: 5:020.029006502 1.0 1.0\n",
            "25/40 [=================>............] - ETA: 4:430.0044021695 1.0 1.0\n",
            "26/40 [==================>...........] - ETA: 4:240.00069709885 1.0 1.0\n",
            "27/40 [===================>..........] - ETA: 4:050.00011996362 1.0 1.0\n",
            "28/40 [====================>.........] - ETA: 3:460.006112555 1.0 1.0\n",
            "29/40 [====================>.........] - ETA: 3:270.017894348 1.0 1.0\n",
            "30/40 [=====================>........] - ETA: 3:080.00227221 1.0 1.0\n",
            "31/40 [======================>.......] - ETA: 2:500.0035359354 1.0 1.0\n",
            "32/40 [=======================>......] - ETA: 2:310.02344155 1.0 1.0\n",
            "33/40 [=======================>......] - ETA: 2:120.9671894 1.0 0.99630994\n",
            "34/40 [========================>.....] - ETA: 1:530.0016754606 1.0 0.99640286\n",
            "35/40 [=========================>....] - ETA: 1:340.0004261947 1.0 0.99647886\n",
            "36/40 [==========================>...] - ETA: 1:150.00023724836 1.0 0.99658704\n",
            "37/40 [==========================>...] - ETA: 56s 0.029871516 1.0 0.9966443\n",
            "38/40 [===========================>..] - ETA: 37s0.0069418764 1.0 0.9967533\n",
            "39/40 [============================>.] - ETA: 18s0.087640636 1.0 0.9968355\n",
            "40/40 [==============================] - 744s 19s/step\n",
            "0.0011862195 1.0 0.99688476\n",
            "\n",
            " Epoch 6/50\n",
            " 1/40 [..............................] - ETA: 12:150.03676348 1.0 1.0\n",
            " 2/40 [>.............................] - ETA: 11:570.124492176 1.0 1.0\n",
            " 3/40 [=>............................] - ETA: 11:370.043105226 1.0 1.0\n",
            " 4/40 [==>...........................] - ETA: 11:190.0041578594 1.0 1.0\n",
            " 5/40 [==>...........................] - ETA: 11:030.00020282598 1.0 1.0\n",
            " 6/40 [===>..........................] - ETA: 10:440.00022516563 1.0 1.0\n",
            " 7/40 [====>.........................] - ETA: 10:251.3318704e-05 1.0 1.0\n",
            " 8/40 [=====>........................] - ETA: 10:060.0015491865 1.0 1.0\n",
            " 9/40 [=====>........................] - ETA: 9:47 0.09762402 1.0 1.0\n",
            "10/40 [======>.......................] - ETA: 9:280.019377325 1.0 1.0\n",
            "11/40 [=======>......................] - ETA: 9:090.045575406 1.0 1.0\n",
            "12/40 [========>.....................] - ETA: 8:497.917713e-05 1.0 1.0\n",
            "13/40 [========>.....................] - ETA: 8:310.033604592 1.0 1.0\n",
            "14/40 [=========>....................] - ETA: 8:110.002553166 1.0 1.0\n",
            "15/40 [==========>...................] - ETA: 7:524.7302146e-05 1.0 1.0\n",
            "16/40 [===========>..................] - ETA: 7:340.010901712 1.0 1.0\n",
            "17/40 [===========>..................] - ETA: 7:157.350248e-06 1.0 1.0\n",
            "18/40 [============>.................] - ETA: 6:560.019262632 1.0 1.0\n",
            "19/40 [=============>................] - ETA: 6:370.05099824 0.9932432 1.0\n",
            "0.0052006515 0.9937107 1.0\n",
            "21/40 [==============>...............] - ETA: 5:590.039184846 0.9941176 1.0\n",
            "22/40 [===============>..............] - ETA: 5:400.0002606151 0.99444443 1.0\n",
            "23/40 [================>.............] - ETA: 5:210.013701773 0.9946808 1.0\n",
            "24/40 [=================>............] - ETA: 5:024.928137e-05 0.9948454 1.0\n",
            "25/40 [=================>............] - ETA: 4:430.005335486 0.9950739 1.0\n",
            "26/40 [==================>...........] - ETA: 4:250.00572907 0.9952153 1.0\n",
            "27/40 [===================>..........] - ETA: 4:060.034708913 0.9953917 1.0\n",
            "28/40 [====================>.........] - ETA: 3:470.00020814998 0.99553573 1.0\n",
            "29/40 [====================>.........] - ETA: 3:280.00063083577 0.9957447 1.0\n",
            "30/40 [=====================>........] - ETA: 3:090.075963624 0.9958848 1.0\n",
            "31/40 [======================>.......] - ETA: 2:500.04514697 0.99603176 1.0\n",
            "32/40 [=======================>......] - ETA: 2:310.03085713 0.99610895 1.0\n",
            "33/40 [=======================>......] - ETA: 2:120.046246722 0.99622643 1.0\n",
            "34/40 [========================>.....] - ETA: 1:530.0936594 0.992674 1.0\n",
            "35/40 [=========================>....] - ETA: 1:344.048969e-05 0.99285716 1.0\n",
            "36/40 [==========================>...] - ETA: 1:150.040791065 0.9930556 1.0\n",
            "37/40 [==========================>...] - ETA: 56s 0.00038031593 0.99319726 1.0\n",
            "38/40 [===========================>..] - ETA: 37s8.313417e-05 0.9934211 1.0\n",
            "39/40 [============================>.] - ETA: 18s0.00064464915 0.99358976 1.0\n",
            "40/40 [==============================] - 746s 19s/step\n",
            "0.007274728 0.9936508 1.0\n",
            "\n",
            " Epoch 7/50\n",
            " 1/40 [..............................] - ETA: 12:164.1224732e-05 1.0 1.0\n",
            " 2/40 [>.............................] - ETA: 11:590.04286778 1.0 1.0\n",
            " 3/40 [=>............................] - ETA: 11:400.023711922 1.0 1.0\n",
            " 4/40 [==>...........................] - ETA: 11:230.03797494 1.0 1.0\n",
            " 5/40 [==>...........................] - ETA: 11:030.0043555675 1.0 1.0\n",
            " 6/40 [===>..........................] - ETA: 10:430.022176225 1.0 1.0\n",
            " 7/40 [====>.........................] - ETA: 10:240.014353377 1.0 1.0\n",
            " 8/40 [=====>........................] - ETA: 10:050.021241622 1.0 1.0\n",
            " 9/40 [=====>........................] - ETA: 9:46 6.122384e-05 1.0 1.0\n",
            "10/40 [======>.......................] - ETA: 9:270.009291746 1.0 1.0\n",
            "11/40 [=======>......................] - ETA: 9:080.018844167 1.0 1.0\n",
            "12/40 [========>.....................] - ETA: 8:490.011208348 1.0 1.0\n",
            "13/40 [========>.....................] - ETA: 8:370.00014991939 1.0 1.0\n",
            "14/40 [=========>....................] - ETA: 8:180.00026795716 1.0 1.0\n",
            "15/40 [==========>...................] - ETA: 7:580.10674596 0.99159664 1.0\n",
            "16/40 [===========>..................] - ETA: 7:391.0915143e-06 0.992126 1.0\n",
            "17/40 [===========>..................] - ETA: 7:190.0288958 0.9925926 1.0\n",
            "18/40 [============>.................] - ETA: 7:000.07112513 0.9859155 1.0\n",
            "19/40 [=============>................] - ETA: 6:410.040089235 0.98657715 1.0\n",
            "20/40 [==============>...............] - ETA: 6:210.11306338 0.9874214 1.0\n",
            "21/40 [==============>...............] - ETA: 6:030.067068204 0.9878049 1.0\n",
            "22/40 [===============>..............] - ETA: 5:430.021041252 0.9884393 1.0\n",
            "23/40 [================>.............] - ETA: 5:240.060319215 0.989011 1.0\n",
            "24/40 [=================>............] - ETA: 5:050.0033720913 0.9893617 1.0\n",
            "25/40 [=================>............] - ETA: 4:460.04053805 0.9897436 1.0\n",
            "26/40 [==================>...........] - ETA: 4:270.18342195 0.99019605 1.0\n",
            "27/40 [===================>..........] - ETA: 4:070.014316116 0.990566 1.0\n",
            "28/40 [====================>.........] - ETA: 3:480.023630576 0.9909091 1.0\n",
            "29/40 [====================>.........] - ETA: 3:290.15627703 0.98678416 1.0\n",
            "30/40 [=====================>........] - ETA: 3:100.24929081 0.9829787 0.98717946\n",
            "31/40 [======================>.......] - ETA: 2:510.5740768 0.9835391 0.9876033\n",
            "32/40 [=======================>......] - ETA: 2:320.035156485 0.98031497 0.9880952\n",
            "33/40 [=======================>......] - ETA: 2:130.016252015 0.9808429 0.98841697\n",
            "34/40 [========================>.....] - ETA: 1:540.05333308 0.97769517 0.9887218\n",
            "35/40 [=========================>....] - ETA: 1:350.002427368 0.9782609 0.989011\n",
            "36/40 [==========================>...] - ETA: 1:160.039953925 0.9791667 0.9894737\n",
            "37/40 [==========================>...] - ETA: 57s 0.24862018 0.9797297 0.9863946\n",
            "38/40 [===========================>..] - ETA: 38s0.024087777 0.98032784 0.9867987\n",
            "39/40 [============================>.] - ETA: 19s0.016886033 0.98101264 0.9872612\n",
            "40/40 [==============================] - 750s 19s/step\n",
            "0.026755355 0.9813084 0.9874608\n",
            "\n",
            " Epoch 8/50\n",
            " 1/40 [..............................] - ETA: 12:190.022170413 1.0 1.0\n",
            " 2/40 [>.............................] - ETA: 12:000.008321551 1.0 1.0\n",
            " 3/40 [=>............................] - ETA: 11:400.0030636904 1.0 1.0\n",
            " 4/40 [==>...........................] - ETA: 11:210.048970204 1.0 1.0\n",
            " 5/40 [==>...........................] - ETA: 11:010.017054006 1.0 1.0\n",
            " 6/40 [===>..........................] - ETA: 10:410.036778934 1.0 1.0\n",
            " 7/40 [====>.........................] - ETA: 10:230.0024948157 1.0 1.0\n",
            " 8/40 [=====>........................] - ETA: 10:040.0007975056 1.0 1.0\n",
            " 9/40 [=====>........................] - ETA: 9:46 0.0005041766 1.0 1.0\n",
            "10/40 [======>.......................] - ETA: 9:270.05646967 0.9859155 1.0\n",
            "11/40 [=======>......................] - ETA: 9:080.07703005 0.9875 1.0\n",
            "12/40 [========>.....................] - ETA: 8:490.016274635 0.9883721 1.0\n",
            "13/40 [========>.....................] - ETA: 8:300.0030172267 0.9894737 1.0\n",
            "14/40 [=========>....................] - ETA: 8:110.0020418717 0.99065423 1.0\n",
            "15/40 [==========>...................] - ETA: 7:530.0043564755 0.991453 1.0\n",
            "16/40 [===========>..................] - ETA: 7:340.0467527 0.98373985 1.0\n",
            "17/40 [===========>..................] - ETA: 7:150.0033733998 0.9847328 1.0\n",
            "18/40 [============>.................] - ETA: 6:560.0039097588 0.98571426 1.0\n",
            "19/40 [=============>................] - ETA: 6:370.0063166297 0.9861111 1.0\n",
            "20/40 [==============>...............] - ETA: 6:180.008531652 0.9868421 1.0\n",
            "21/40 [==============>...............] - ETA: 5:590.0034851078 0.98734176 1.0\n",
            "22/40 [===============>..............] - ETA: 5:400.0022340491 0.9880952 1.0\n",
            "23/40 [================>.............] - ETA: 5:210.00076490187 0.9884393 1.0\n",
            "24/40 [=================>............] - ETA: 5:020.007700597 0.98895025 1.0\n",
            "25/40 [=================>............] - ETA: 4:440.0014832289 0.9893617 1.0\n",
            "26/40 [==================>...........] - ETA: 4:250.00017928872 0.9896373 1.0\n",
            "27/40 [===================>..........] - ETA: 4:060.00096584717 0.98994976 1.0\n",
            "28/40 [====================>.........] - ETA: 3:470.009545345 0.9904306 1.0\n",
            "29/40 [====================>.........] - ETA: 3:280.0008144401 0.9909091 1.0\n",
            "30/40 [=====================>........] - ETA: 3:090.00025698915 0.9911894 1.0\n",
            "31/40 [======================>.......] - ETA: 2:500.0066481507 0.99148935 1.0\n",
            "32/40 [=======================>......] - ETA: 2:310.0043656575 0.9918699 1.0\n",
            "33/40 [=======================>......] - ETA: 2:120.009191801 0.9922179 1.0\n",
            "34/40 [========================>.....] - ETA: 1:531.3583481e-05 0.99233717 1.0\n",
            "35/40 [=========================>....] - ETA: 1:348.091139e-05 0.99250937 1.0\n",
            "36/40 [==========================>...] - ETA: 1:150.0004749375 0.9927273 1.0\n",
            "37/40 [==========================>...] - ETA: 56s 0.00029679644 0.9930556 1.0\n",
            "38/40 [===========================>..] - ETA: 37s0.013460324 0.9932886 1.0\n",
            "39/40 [============================>.] - ETA: 18s0.0009309485 0.99346405 1.0\n",
            "40/40 [==============================] - 746s 19s/step\n",
            "0.0022468853 0.99352753 1.0\n",
            "\n",
            " Epoch 9/50\n",
            " 1/40 [..............................] - ETA: 12:240.003663994 1.0 1.0\n",
            " 2/40 [>.............................] - ETA: 11:580.0001329315 1.0 1.0\n",
            " 3/40 [=>............................] - ETA: 11:408.866474e-06 1.0 1.0\n",
            " 4/40 [==>...........................] - ETA: 11:220.0003816504 1.0 1.0\n",
            " 5/40 [==>...........................] - ETA: 11:031.2275438e-05 1.0 1.0\n",
            " 6/40 [===>..........................] - ETA: 10:443.2633839e-06 1.0 1.0\n",
            " 7/40 [====>.........................] - ETA: 10:250.0002505958 1.0 1.0\n",
            " 8/40 [=====>........................] - ETA: 10:060.0002617315 1.0 1.0\n",
            " 9/40 [=====>........................] - ETA: 9:47 0.00012729954 1.0 1.0\n",
            "10/40 [======>.......................] - ETA: 9:281.3285114e-05 1.0 1.0\n",
            "11/40 [=======>......................] - ETA: 9:090.0014902994 1.0 1.0\n",
            "12/40 [========>.....................] - ETA: 8:500.00023164076 1.0 1.0\n",
            "13/40 [========>.....................] - ETA: 8:313.978997e-05 1.0 1.0\n",
            "14/40 [=========>....................] - ETA: 8:121.717367e-06 1.0 1.0\n",
            "15/40 [==========>...................] - ETA: 7:539.035063e-05 1.0 1.0\n",
            "16/40 [===========>..................] - ETA: 7:342.087059e-05 1.0 1.0\n",
            "17/40 [===========>..................] - ETA: 7:150.00020133246 1.0 1.0\n",
            "18/40 [============>.................] - ETA: 6:560.00018702289 1.0 1.0\n",
            "19/40 [=============>................] - ETA: 6:370.021099124 1.0 1.0\n",
            "20/40 [==============>...............] - ETA: 6:185.1946336e-05 1.0 1.0\n",
            "21/40 [==============>...............] - ETA: 5:592.8187498e-05 1.0 1.0\n",
            "22/40 [===============>..............] - ETA: 5:400.0005645994 1.0 1.0\n",
            "23/40 [================>.............] - ETA: 5:214.3760185e-05 1.0 1.0\n",
            "24/40 [=================>............] - ETA: 5:020.003537877 1.0 1.0\n",
            "25/40 [=================>............] - ETA: 4:430.00039797163 1.0 1.0\n",
            "26/40 [==================>...........] - ETA: 4:250.0004130299 1.0 1.0\n",
            "27/40 [===================>..........] - ETA: 4:050.00017520862 1.0 1.0\n",
            "28/40 [====================>.........] - ETA: 3:470.10570683 0.9953704 1.0\n",
            "29/40 [====================>.........] - ETA: 3:280.002835865 0.9954955 1.0\n",
            "30/40 [=====================>........] - ETA: 3:090.050071903 0.9956332 1.0\n",
            "31/40 [======================>.......] - ETA: 2:500.0045381556 0.9957627 1.0\n",
            "32/40 [=======================>......] - ETA: 2:310.00017372779 0.99590164 1.0\n",
            "33/40 [=======================>......] - ETA: 2:120.00012402059 0.99601597 1.0\n",
            "34/40 [========================>.....] - ETA: 1:530.00014066958 0.9961832 1.0\n",
            "35/40 [=========================>....] - ETA: 1:341.7499215e-05 0.99626863 1.0\n",
            "36/40 [==========================>...] - ETA: 1:151.0356353e-06 0.99635035 1.0\n",
            "37/40 [==========================>...] - ETA: 56s 0.0002490734 0.9964539 1.0\n",
            "38/40 [===========================>..] - ETA: 37s7.9970196e-05 0.9965278 1.0\n",
            "39/40 [============================>.] - ETA: 18s0.00023617384 0.9966443 1.0\n",
            "40/40 [==============================] - 746s 19s/step\n",
            "0.00021221151 0.9966887 1.0\n",
            "\n",
            " Epoch 10/50\n",
            " 1/40 [..............................] - ETA: 12:190.004710036 1.0 1.0\n"
          ]
        },
        {
          "output_type": "error",
          "ename": "KeyboardInterrupt",
          "evalue": "ignored",
          "traceback": [
            "\u001b[0;31m---------------------------------------------------------------------------\u001b[0m",
            "\u001b[0;31mKeyboardInterrupt\u001b[0m                         Traceback (most recent call last)",
            "\u001b[0;32m<ipython-input-62-3a6c1daed93b>\u001b[0m in \u001b[0;36m<module>\u001b[0;34m\u001b[0m\n\u001b[0;32m----> 1\u001b[0;31m \u001b[0mtrain\u001b[0m\u001b[0;34m(\u001b[0m\u001b[0mtrain_data\u001b[0m\u001b[0;34m,\u001b[0m \u001b[0mEPOCHS\u001b[0m\u001b[0;34m)\u001b[0m\u001b[0;34m\u001b[0m\u001b[0;34m\u001b[0m\u001b[0m\n\u001b[0m",
            "\u001b[0;32m<ipython-input-60-83a8d2091a33>\u001b[0m in \u001b[0;36mtrain\u001b[0;34m(data, EPOCHS)\u001b[0m\n\u001b[1;32m     12\u001b[0m \u001b[0;34m\u001b[0m\u001b[0m\n\u001b[1;32m     13\u001b[0m       \u001b[0;31m# train step\u001b[0m\u001b[0;34m\u001b[0m\u001b[0;34m\u001b[0m\u001b[0;34m\u001b[0m\u001b[0m\n\u001b[0;32m---> 14\u001b[0;31m       \u001b[0mloss\u001b[0m \u001b[0;34m=\u001b[0m \u001b[0mtrain_step\u001b[0m\u001b[0;34m(\u001b[0m\u001b[0mbatch\u001b[0m\u001b[0;34m)\u001b[0m\u001b[0;34m\u001b[0m\u001b[0;34m\u001b[0m\u001b[0m\n\u001b[0m\u001b[1;32m     15\u001b[0m       \u001b[0myhat\u001b[0m \u001b[0;34m=\u001b[0m \u001b[0msiamese_model\u001b[0m\u001b[0;34m.\u001b[0m\u001b[0mpredict\u001b[0m\u001b[0;34m(\u001b[0m\u001b[0mbatch\u001b[0m\u001b[0;34m[\u001b[0m\u001b[0;34m:\u001b[0m\u001b[0;36m2\u001b[0m\u001b[0;34m]\u001b[0m\u001b[0;34m)\u001b[0m\u001b[0;34m\u001b[0m\u001b[0;34m\u001b[0m\u001b[0m\n\u001b[1;32m     16\u001b[0m       \u001b[0mr\u001b[0m\u001b[0;34m.\u001b[0m\u001b[0mupdate_state\u001b[0m\u001b[0;34m(\u001b[0m\u001b[0mbatch\u001b[0m\u001b[0;34m[\u001b[0m\u001b[0;36m2\u001b[0m\u001b[0;34m]\u001b[0m\u001b[0;34m,\u001b[0m \u001b[0myhat\u001b[0m\u001b[0;34m)\u001b[0m\u001b[0;34m\u001b[0m\u001b[0;34m\u001b[0m\u001b[0m\n",
            "\u001b[0;32m/usr/local/lib/python3.7/dist-packages/tensorflow/python/eager/def_function.py\u001b[0m in \u001b[0;36m__call__\u001b[0;34m(self, *args, **kwds)\u001b[0m\n\u001b[1;32m    826\u001b[0m     \u001b[0mtracing_count\u001b[0m \u001b[0;34m=\u001b[0m \u001b[0mself\u001b[0m\u001b[0;34m.\u001b[0m\u001b[0mexperimental_get_tracing_count\u001b[0m\u001b[0;34m(\u001b[0m\u001b[0;34m)\u001b[0m\u001b[0;34m\u001b[0m\u001b[0;34m\u001b[0m\u001b[0m\n\u001b[1;32m    827\u001b[0m     \u001b[0;32mwith\u001b[0m \u001b[0mtrace\u001b[0m\u001b[0;34m.\u001b[0m\u001b[0mTrace\u001b[0m\u001b[0;34m(\u001b[0m\u001b[0mself\u001b[0m\u001b[0;34m.\u001b[0m\u001b[0m_name\u001b[0m\u001b[0;34m)\u001b[0m \u001b[0;32mas\u001b[0m \u001b[0mtm\u001b[0m\u001b[0;34m:\u001b[0m\u001b[0;34m\u001b[0m\u001b[0;34m\u001b[0m\u001b[0m\n\u001b[0;32m--> 828\u001b[0;31m       \u001b[0mresult\u001b[0m \u001b[0;34m=\u001b[0m \u001b[0mself\u001b[0m\u001b[0;34m.\u001b[0m\u001b[0m_call\u001b[0m\u001b[0;34m(\u001b[0m\u001b[0;34m*\u001b[0m\u001b[0margs\u001b[0m\u001b[0;34m,\u001b[0m \u001b[0;34m**\u001b[0m\u001b[0mkwds\u001b[0m\u001b[0;34m)\u001b[0m\u001b[0;34m\u001b[0m\u001b[0;34m\u001b[0m\u001b[0m\n\u001b[0m\u001b[1;32m    829\u001b[0m       \u001b[0mcompiler\u001b[0m \u001b[0;34m=\u001b[0m \u001b[0;34m\"xla\"\u001b[0m \u001b[0;32mif\u001b[0m \u001b[0mself\u001b[0m\u001b[0;34m.\u001b[0m\u001b[0m_experimental_compile\u001b[0m \u001b[0;32melse\u001b[0m \u001b[0;34m\"nonXla\"\u001b[0m\u001b[0;34m\u001b[0m\u001b[0;34m\u001b[0m\u001b[0m\n\u001b[1;32m    830\u001b[0m       \u001b[0mnew_tracing_count\u001b[0m \u001b[0;34m=\u001b[0m \u001b[0mself\u001b[0m\u001b[0;34m.\u001b[0m\u001b[0mexperimental_get_tracing_count\u001b[0m\u001b[0;34m(\u001b[0m\u001b[0;34m)\u001b[0m\u001b[0;34m\u001b[0m\u001b[0;34m\u001b[0m\u001b[0m\n",
            "\u001b[0;32m/usr/local/lib/python3.7/dist-packages/tensorflow/python/eager/def_function.py\u001b[0m in \u001b[0;36m_call\u001b[0;34m(self, *args, **kwds)\u001b[0m\n\u001b[1;32m    853\u001b[0m       \u001b[0;31m# In this case we have created variables on the first call, so we run the\u001b[0m\u001b[0;34m\u001b[0m\u001b[0;34m\u001b[0m\u001b[0;34m\u001b[0m\u001b[0m\n\u001b[1;32m    854\u001b[0m       \u001b[0;31m# defunned version which is guaranteed to never create variables.\u001b[0m\u001b[0;34m\u001b[0m\u001b[0;34m\u001b[0m\u001b[0;34m\u001b[0m\u001b[0m\n\u001b[0;32m--> 855\u001b[0;31m       \u001b[0;32mreturn\u001b[0m \u001b[0mself\u001b[0m\u001b[0;34m.\u001b[0m\u001b[0m_stateless_fn\u001b[0m\u001b[0;34m(\u001b[0m\u001b[0;34m*\u001b[0m\u001b[0margs\u001b[0m\u001b[0;34m,\u001b[0m \u001b[0;34m**\u001b[0m\u001b[0mkwds\u001b[0m\u001b[0;34m)\u001b[0m  \u001b[0;31m# pylint: disable=not-callable\u001b[0m\u001b[0;34m\u001b[0m\u001b[0;34m\u001b[0m\u001b[0m\n\u001b[0m\u001b[1;32m    856\u001b[0m     \u001b[0;32melif\u001b[0m \u001b[0mself\u001b[0m\u001b[0;34m.\u001b[0m\u001b[0m_stateful_fn\u001b[0m \u001b[0;32mis\u001b[0m \u001b[0;32mnot\u001b[0m \u001b[0;32mNone\u001b[0m\u001b[0;34m:\u001b[0m\u001b[0;34m\u001b[0m\u001b[0;34m\u001b[0m\u001b[0m\n\u001b[1;32m    857\u001b[0m       \u001b[0;31m# Release the lock early so that multiple threads can perform the call\u001b[0m\u001b[0;34m\u001b[0m\u001b[0;34m\u001b[0m\u001b[0;34m\u001b[0m\u001b[0m\n",
            "\u001b[0;32m/usr/local/lib/python3.7/dist-packages/tensorflow/python/eager/function.py\u001b[0m in \u001b[0;36m__call__\u001b[0;34m(self, *args, **kwargs)\u001b[0m\n\u001b[1;32m   2941\u001b[0m        filtered_flat_args) = self._maybe_define_function(args, kwargs)\n\u001b[1;32m   2942\u001b[0m     return graph_function._call_flat(\n\u001b[0;32m-> 2943\u001b[0;31m         filtered_flat_args, captured_inputs=graph_function.captured_inputs)  # pylint: disable=protected-access\n\u001b[0m\u001b[1;32m   2944\u001b[0m \u001b[0;34m\u001b[0m\u001b[0m\n\u001b[1;32m   2945\u001b[0m   \u001b[0;34m@\u001b[0m\u001b[0mproperty\u001b[0m\u001b[0;34m\u001b[0m\u001b[0;34m\u001b[0m\u001b[0m\n",
            "\u001b[0;32m/usr/local/lib/python3.7/dist-packages/tensorflow/python/eager/function.py\u001b[0m in \u001b[0;36m_call_flat\u001b[0;34m(self, args, captured_inputs, cancellation_manager)\u001b[0m\n\u001b[1;32m   1917\u001b[0m       \u001b[0;31m# No tape is watching; skip to running the function.\u001b[0m\u001b[0;34m\u001b[0m\u001b[0;34m\u001b[0m\u001b[0;34m\u001b[0m\u001b[0m\n\u001b[1;32m   1918\u001b[0m       return self._build_call_outputs(self._inference_function.call(\n\u001b[0;32m-> 1919\u001b[0;31m           ctx, args, cancellation_manager=cancellation_manager))\n\u001b[0m\u001b[1;32m   1920\u001b[0m     forward_backward = self._select_forward_and_backward_functions(\n\u001b[1;32m   1921\u001b[0m         \u001b[0margs\u001b[0m\u001b[0;34m,\u001b[0m\u001b[0;34m\u001b[0m\u001b[0;34m\u001b[0m\u001b[0m\n",
            "\u001b[0;32m/usr/local/lib/python3.7/dist-packages/tensorflow/python/eager/function.py\u001b[0m in \u001b[0;36mcall\u001b[0;34m(self, ctx, args, cancellation_manager)\u001b[0m\n\u001b[1;32m    558\u001b[0m               \u001b[0minputs\u001b[0m\u001b[0;34m=\u001b[0m\u001b[0margs\u001b[0m\u001b[0;34m,\u001b[0m\u001b[0;34m\u001b[0m\u001b[0;34m\u001b[0m\u001b[0m\n\u001b[1;32m    559\u001b[0m               \u001b[0mattrs\u001b[0m\u001b[0;34m=\u001b[0m\u001b[0mattrs\u001b[0m\u001b[0;34m,\u001b[0m\u001b[0;34m\u001b[0m\u001b[0;34m\u001b[0m\u001b[0m\n\u001b[0;32m--> 560\u001b[0;31m               ctx=ctx)\n\u001b[0m\u001b[1;32m    561\u001b[0m         \u001b[0;32melse\u001b[0m\u001b[0;34m:\u001b[0m\u001b[0;34m\u001b[0m\u001b[0;34m\u001b[0m\u001b[0m\n\u001b[1;32m    562\u001b[0m           outputs = execute.execute_with_cancellation(\n",
            "\u001b[0;32m/usr/local/lib/python3.7/dist-packages/tensorflow/python/eager/execute.py\u001b[0m in \u001b[0;36mquick_execute\u001b[0;34m(op_name, num_outputs, inputs, attrs, ctx, name)\u001b[0m\n\u001b[1;32m     58\u001b[0m     \u001b[0mctx\u001b[0m\u001b[0;34m.\u001b[0m\u001b[0mensure_initialized\u001b[0m\u001b[0;34m(\u001b[0m\u001b[0;34m)\u001b[0m\u001b[0;34m\u001b[0m\u001b[0;34m\u001b[0m\u001b[0m\n\u001b[1;32m     59\u001b[0m     tensors = pywrap_tfe.TFE_Py_Execute(ctx._handle, device_name, op_name,\n\u001b[0;32m---> 60\u001b[0;31m                                         inputs, attrs, num_outputs)\n\u001b[0m\u001b[1;32m     61\u001b[0m   \u001b[0;32mexcept\u001b[0m \u001b[0mcore\u001b[0m\u001b[0;34m.\u001b[0m\u001b[0m_NotOkStatusException\u001b[0m \u001b[0;32mas\u001b[0m \u001b[0me\u001b[0m\u001b[0;34m:\u001b[0m\u001b[0;34m\u001b[0m\u001b[0;34m\u001b[0m\u001b[0m\n\u001b[1;32m     62\u001b[0m     \u001b[0;32mif\u001b[0m \u001b[0mname\u001b[0m \u001b[0;32mis\u001b[0m \u001b[0;32mnot\u001b[0m \u001b[0;32mNone\u001b[0m\u001b[0;34m:\u001b[0m\u001b[0;34m\u001b[0m\u001b[0;34m\u001b[0m\u001b[0m\n",
            "\u001b[0;31mKeyboardInterrupt\u001b[0m: "
          ]
        }
      ]
    },
    {
      "cell_type": "markdown",
      "source": [
        "Evaluate Model"
      ],
      "metadata": {
        "id": "MQSL1HejDDhq"
      }
    },
    {
      "cell_type": "markdown",
      "source": [
        "import metrics"
      ],
      "metadata": {
        "id": "AILrNezMD6EU"
      }
    },
    {
      "cell_type": "code",
      "source": [
        "# import metric calculations\n",
        "from tensorflow.keras.metrics import Precision, Recall"
      ],
      "metadata": {
        "id": "tyLt55GwEYgc"
      },
      "execution_count": 63,
      "outputs": []
    },
    {
      "cell_type": "markdown",
      "source": [
        "make predictions"
      ],
      "metadata": {
        "id": "a4XLZnVMEgOt"
      }
    },
    {
      "cell_type": "code",
      "source": [
        "# Get a batch of test data\n",
        "test_input, test_val, y_true = test_data.as_numpy_iterator().next()\n"
      ],
      "metadata": {
        "id": "1UrVClrJEoa0"
      },
      "execution_count": 64,
      "outputs": []
    },
    {
      "cell_type": "code",
      "source": [
        "y_hat = siamese_model.predict([test_input, test_val])"
      ],
      "metadata": {
        "id": "HCtYCrb5E14l"
      },
      "execution_count": 65,
      "outputs": []
    },
    {
      "cell_type": "code",
      "source": [
        "# post processing the results\n",
        "[1 if prediction > 0.5 else 0 for prediction in y_hat]"
      ],
      "metadata": {
        "colab": {
          "base_uri": "https://localhost:8080/"
        },
        "id": "FqRMkfewE7sb",
        "outputId": "6b72141e-4732-42db-bae9-130ec14c6170"
      },
      "execution_count": 66,
      "outputs": [
        {
          "output_type": "execute_result",
          "data": {
            "text/plain": [
              "[1, 1, 1, 1, 0, 1, 1, 1, 0, 1, 0, 1, 1, 1, 1, 0]"
            ]
          },
          "metadata": {},
          "execution_count": 66
        }
      ]
    },
    {
      "cell_type": "code",
      "source": [
        "y_true"
      ],
      "metadata": {
        "colab": {
          "base_uri": "https://localhost:8080/"
        },
        "id": "IPM_xx8YFJg4",
        "outputId": "bf498c22-65d6-4574-9aca-d8c1ca851f23"
      },
      "execution_count": 67,
      "outputs": [
        {
          "output_type": "execute_result",
          "data": {
            "text/plain": [
              "array([1., 1., 1., 1., 0., 1., 1., 1., 0., 1., 0., 1., 1., 1., 1., 0.],\n",
              "      dtype=float32)"
            ]
          },
          "metadata": {},
          "execution_count": 67
        }
      ]
    },
    {
      "cell_type": "markdown",
      "source": [
        "#Calculate Metrics"
      ],
      "metadata": {
        "id": "T1-ljl15FM2q"
      }
    },
    {
      "cell_type": "code",
      "source": [
        "# creating a metric object\n",
        "m = Recall()\n",
        "\n",
        "# calculating the recall value\n",
        "m.update_state(y_true, y_hat)\n",
        "\n",
        "# return recall result\n",
        "m.result().numpy()"
      ],
      "metadata": {
        "colab": {
          "base_uri": "https://localhost:8080/"
        },
        "id": "SRR5sssTFSnw",
        "outputId": "9f34ff19-01b3-4efd-e5fd-4849b087e7f3"
      },
      "execution_count": 68,
      "outputs": [
        {
          "output_type": "execute_result",
          "data": {
            "text/plain": [
              "1.0"
            ]
          },
          "metadata": {},
          "execution_count": 68
        }
      ]
    },
    {
      "cell_type": "code",
      "source": [
        "# creating a metric object\n",
        "m = Precision()\n",
        "\n",
        "# calculating the recall value\n",
        "m.update_state(y_true, y_hat)\n",
        "\n",
        "# return recall result\n",
        "m.result().numpy()"
      ],
      "metadata": {
        "colab": {
          "base_uri": "https://localhost:8080/"
        },
        "id": "ZIFsB52wFgja",
        "outputId": "fdd7760a-36cc-4938-be1b-fbde272b2fa4"
      },
      "execution_count": 69,
      "outputs": [
        {
          "output_type": "execute_result",
          "data": {
            "text/plain": [
              "1.0"
            ]
          },
          "metadata": {},
          "execution_count": 69
        }
      ]
    },
    {
      "cell_type": "code",
      "source": [
        "r = Recall()\n",
        "p = Precision()\n",
        "\n",
        "for test_input, test_val, y_true in test_data.as_numpy_iterator():\n",
        "  yhat = siamese_model.predict([test_input, test_val])\n",
        "  r.update_state(y_true, yhat)\n",
        "  p.update_state(y_true, yhat)\n",
        "\n",
        "print(r.result().numpy(), p.result().numpy())"
      ],
      "metadata": {
        "colab": {
          "base_uri": "https://localhost:8080/"
        },
        "id": "O126E9OKFyPU",
        "outputId": "5410c6e1-d1d0-4af7-eb72-34b0ba18a9e5"
      },
      "execution_count": 70,
      "outputs": [
        {
          "output_type": "stream",
          "name": "stdout",
          "text": [
            "1.0 1.0\n"
          ]
        }
      ]
    },
    {
      "cell_type": "markdown",
      "source": [
        "#Visualize results"
      ],
      "metadata": {
        "id": "5OLhIgGkHmoM"
      }
    },
    {
      "cell_type": "code",
      "source": [
        "# set plot size\n",
        "plt.figure(figsize=(10,8))\n",
        "\n",
        "# set first subplot\n",
        "plt.subplot(1,2,1)\n",
        "plt.imshow(test_input[4])\n",
        "\n",
        "# set second subplot\n",
        "plt.subplot(1,2,2)\n",
        "plt.imshow(test_val[4])\n",
        "\n",
        "# renders cleanly\n",
        "plt.show()"
      ],
      "metadata": {
        "colab": {
          "base_uri": "https://localhost:8080/",
          "height": 304
        },
        "id": "XwPLJ0DoHsDV",
        "outputId": "25922478-0e58-42f9-e601-b96497374095"
      },
      "execution_count": 74,
      "outputs": [
        {
          "output_type": "display_data",
          "data": {
            "text/plain": [
              "<Figure size 720x576 with 2 Axes>"
            ],
            "image/png": "[encoded data removed]"
          },
          "metadata": {
            "needs_background": "light"
          }
        }
      ]
    },
    {
      "cell_type": "markdown",
      "source": [
        "#Save Model"
      ],
      "metadata": {
        "id": "KAa2qwREIJQs"
      }
    },
    {
      "cell_type": "code",
      "source": [
        "# save weights\n",
        "siamese_model.save('siamesemodelv2.h5')"
      ],
      "metadata": {
        "id": "hH0Cnaa6ILVd"
      },
      "execution_count": 75,
      "outputs": []
    },
    {
      "cell_type": "code",
      "source": [
        "L1Dist"
      ],
      "metadata": {
        "id": "f0B6bo6DIRjl",
        "colab": {
          "base_uri": "https://localhost:8080/"
        },
        "outputId": "0f1b1a09-a836-4723-92e0-1b3819a0a6f0"
      },
      "execution_count": 76,
      "outputs": [
        {
          "output_type": "execute_result",
          "data": {
            "text/plain": [
              "__main__.L1Dist"
            ]
          },
          "metadata": {},
          "execution_count": 76
        }
      ]
    },
    {
      "cell_type": "code",
      "source": [
        "siamese_model = tf.keras.models.load_model('siamesemodelv2.h5', \n",
        "                                   custom_objects={'L1Dist':L1Dist, 'BinaryCrossentropy':tf.losses.BinaryCrossentropy})\n"
      ],
      "metadata": {
        "colab": {
          "base_uri": "https://localhost:8080/"
        },
        "id": "23WAeeG0UhAH",
        "outputId": "06ae1295-0458-400d-8a3a-58aa6e68ece3"
      },
      "execution_count": 77,
      "outputs": [
        {
          "output_type": "stream",
          "name": "stderr",
          "text": [
            "WARNING:tensorflow:No training configuration found in the save file, so the model was *not* compiled. Compile it manually.\n"
          ]
        }
      ]
    },
    {
      "cell_type": "code",
      "source": [
        "# make predictions with reloaded model\n",
        "siamese_model.predict([test_input, test_val])"
      ],
      "metadata": {
        "id": "RJwQ9SIoUk_i"
      },
      "execution_count": null,
      "outputs": []
    },
    {
      "cell_type": "code",
      "source": [
        "siamese_model.summary()"
      ],
      "metadata": {
        "colab": {
          "base_uri": "https://localhost:8080/"
        },
        "id": "HRTBlg-HU0e_",
        "outputId": "1565e33e-8af3-4323-d406-fb34eae1950c"
      },
      "execution_count": 79,
      "outputs": [
        {
          "output_type": "stream",
          "name": "stdout",
          "text": [
            "Model: \"SiameseNetwork\"\n",
            "__________________________________________________________________________________________________\n",
            "Layer (type)                    Output Shape         Param #     Connected to                     \n",
            "==================================================================================================\n",
            "input_img (InputLayer)          [(None, 100, 100, 3) 0                                            \n",
            "__________________________________________________________________________________________________\n",
            "validation_ing (InputLayer)     [(None, 100, 100, 3) 0                                            \n",
            "__________________________________________________________________________________________________\n",
            "embedding (Functional)          (None, 4096)         19823808    input_img[0][0]                  \n",
            "                                                                 validation_ing[0][0]             \n",
            "__________________________________________________________________________________________________\n",
            "distance (L1Dist)               (None, 4096)         0           embedding[0][0]                  \n",
            "                                                                 embedding[1][0]                  \n",
            "__________________________________________________________________________________________________\n",
            "dense_1 (Dense)                 (None, 1)            4097        distance[0][0]                   \n",
            "==================================================================================================\n",
            "Total params: 19,827,905\n",
            "Trainable params: 19,827,905\n",
            "Non-trainable params: 0\n",
            "__________________________________________________________________________________________________\n"
          ]
        }
      ]
    },
    {
      "cell_type": "code",
      "source": [],
      "metadata": {
        "id": "hKEpv8_vgWyw"
      },
      "execution_count": null,
      "outputs": []
    }
  ]
}